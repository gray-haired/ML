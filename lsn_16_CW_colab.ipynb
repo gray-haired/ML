{
  "cells": [
    {
      "cell_type": "code",
      "source": [
        "from pydrive.auth import GoogleAuth\n",
        "from pydrive.drive import GoogleDrive\n",
        "from google.colab import auth\n",
        "from oauth2client.client import GoogleCredentials"
      ],
      "metadata": {
        "id": "Sc3wLxHpONe-"
      },
      "execution_count": 10,
      "outputs": []
    },
    {
      "cell_type": "code",
      "source": [
        "# 1. Authenticate and create the PyDrive client.\n",
        "auth.authenticate_user()\n",
        "gauth = GoogleAuth()\n",
        "gauth.credentials = GoogleCredentials.get_application_default()\n",
        "drive = GoogleDrive(gauth)"
      ],
      "metadata": {
        "id": "8VOEjOcvOTvC"
      },
      "execution_count": 11,
      "outputs": []
    },
    {
      "cell_type": "code",
      "source": [
        "# 2. Create & upload a file text file.\n",
        "uploaded = drive.CreateFile({'ebergy_data_2.csv': 'https://docs.google.com/spreadsheets/d/1XCHw3P9MYffABZTMR6vlzngp7s94o0Czs023PRPa9QA/edit?usp=sharing'})\n",
        "uploaded.Upload()"
      ],
      "metadata": {
        "id": "VQY7M_STOYj-"
      },
      "execution_count": 13,
      "outputs": []
    },
    {
      "cell_type": "code",
      "execution_count": 16,
      "metadata": {
        "id": "bMQNqmx0JTAi"
      },
      "outputs": [],
      "source": [
        "import numpy as np\n",
        "import pandas as pd\n",
        "from sklearn.linear_model import LinearRegression\n",
        "from sklearn.isotonic import IsotonicRegression\n",
        "from google.colab import files"
      ]
    },
    {
      "cell_type": "markdown",
      "metadata": {
        "id": "8E8Sk_sFJTAo"
      },
      "source": [
        "# получение данных"
      ]
    },
    {
      "cell_type": "code",
      "execution_count": 15,
      "metadata": {
        "colab": {
          "base_uri": "https://localhost:8080/"
        },
        "id": "9qA42XLjJTAr",
        "outputId": "9880697c-31d0-41dd-ca58-70c2b3df134f"
      },
      "outputs": [
        {
          "output_type": "stream",
          "name": "stdout",
          "text": [
            "             timestamp  meter_reading  air_temperature  cloud_coverage  \\\n",
            "0  2016-01-30 08:00:00        43.6839              8.3             0.0   \n",
            "1  2016-01-31 05:00:00        37.5408             12.8             0.0   \n",
            "2  2016-01-31 17:00:00        52.5571             20.6             0.0   \n",
            "3  2016-04-08 14:00:00        59.3827             21.7             2.0   \n",
            "4  2016-05-01 19:00:00       448.0000             31.1             0.0   \n",
            "\n",
            "   dew_temperature  precip_depth_1_hr  sea_level_pressure  wind_speed  \\\n",
            "0              6.1                0.0              1019.0         2.1   \n",
            "1             10.0                0.0              1021.9         0.0   \n",
            "2             11.7                0.0              1020.9         1.5   \n",
            "3             14.4                0.0              1015.1         3.1   \n",
            "4             17.2                0.0              1016.1         4.1   \n",
            "\n",
            "   wind_direction_sin  wind_direction_cos  air_temperature1  hour  \n",
            "0        5.877853e-01        8.090170e-01              -2.3     8  \n",
            "1        0.000000e+00        1.000000e+00              -1.1     5  \n",
            "2       -3.090170e-01       -9.510565e-01               1.7    17  \n",
            "3        1.000000e+00        1.194340e-15               2.8    14  \n",
            "4        1.224647e-16       -1.000000e+00               1.1    19  \n"
          ]
        }
      ],
      "source": [
        "data = pd.read_csv('energy_data_2.csv')\n",
        "print(data.head())"
      ]
    },
    {
      "cell_type": "markdown",
      "metadata": {
        "id": "PLQGnJQaJTAt"
      },
      "source": [
        "# модель линейной регрессии"
      ]
    },
    {
      "cell_type": "code",
      "execution_count": 17,
      "metadata": {
        "id": "RGipsLgIJTAu"
      },
      "outputs": [],
      "source": [
        "def rmsle_err (y, y_pred):\n",
        "    return((np.log(1 + y) - np.log(1 + y_pred))**2).mean()**0.5"
      ]
    },
    {
      "cell_type": "code",
      "execution_count": 18,
      "metadata": {
        "colab": {
          "base_uri": "https://localhost:8080/"
        },
        "id": "3sjoFqHFJTAv",
        "outputId": "0027f689-b299-4719-ad12-3b396a7c9d73"
      },
      "outputs": [
        {
          "output_type": "stream",
          "name": "stdout",
          "text": [
            "RMSLE: 0.2228\n"
          ]
        }
      ],
      "source": [
        "x = np.array(data['air_temperature']).reshape(-1, 1)\n",
        "y = data['meter_reading']\n",
        "model = LinearRegression().fit(x, y)\n",
        "print('RMSLE: {0:.5}'.format(rmsle_err(y, model.predict(x))))"
      ]
    },
    {
      "cell_type": "markdown",
      "metadata": {
        "id": "-VzOwzAMJTAw"
      },
      "source": [
        "# изотоническая регрессия\n",
        "## монотонная зависимость от параметра"
      ]
    },
    {
      "cell_type": "code",
      "execution_count": 19,
      "metadata": {
        "colab": {
          "base_uri": "https://localhost:8080/"
        },
        "id": "Gk9Ty8bWJTAx",
        "outputId": "cde1ce3c-262d-4d89-f186-8432ae218af1"
      },
      "outputs": [
        {
          "output_type": "stream",
          "name": "stdout",
          "text": [
            "RMSLE: 0.21622\n"
          ]
        }
      ],
      "source": [
        "model_is = IsotonicRegression().fit(x,y)\n",
        "print('RMSLE: {0:.5}'.format(rmsle_err(y, model_is.predict(x))))"
      ]
    },
    {
      "cell_type": "code",
      "execution_count": null,
      "metadata": {
        "id": "wbs2nA30JTAy"
      },
      "outputs": [],
      "source": [
        ""
      ]
    }
  ],
  "metadata": {
    "kernelspec": {
      "display_name": "Python 3 (ipykernel)",
      "language": "python",
      "name": "python3"
    },
    "language_info": {
      "codemirror_mode": {
        "name": "ipython",
        "version": 3
      },
      "file_extension": ".py",
      "mimetype": "text/x-python",
      "name": "python",
      "nbconvert_exporter": "python",
      "pygments_lexer": "ipython3",
      "version": "3.8.5"
    },
    "colab": {
      "name": "lsn_16_CW.ipynb",
      "provenance": [],
      "collapsed_sections": []
    }
  },
  "nbformat": 4,
  "nbformat_minor": 0
}