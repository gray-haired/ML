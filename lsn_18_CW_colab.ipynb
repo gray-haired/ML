{
  "nbformat": 4,
  "nbformat_minor": 0,
  "metadata": {
    "colab": {
      "name": "lsn_18_CW_colab.ipynb",
      "provenance": []
    },
    "kernelspec": {
      "name": "python3",
      "display_name": "Python 3"
    },
    "language_info": {
      "name": "python"
    }
  },
  "cells": [
    {
      "cell_type": "markdown",
      "source": [
        "# Исследование регрессии"
      ],
      "metadata": {
        "id": "pngPK3tKnZYj"
      }
    },
    {
      "cell_type": "markdown",
      "source": [
        "подберем лучшую модель для предсказания температуры от часа года"
      ],
      "metadata": {
        "id": "qoT3ocFonfLf"
      }
    },
    {
      "cell_type": "code",
      "execution_count": 1,
      "metadata": {
        "id": "_Rt9DfSblqmg"
      },
      "outputs": [],
      "source": [
        "import numpy as np\n",
        "import pandas as pd\n",
        "from sklearn.linear_model import LinearRegression\n",
        "from sklearn.metrics import mean_squared_error\n",
        "import matplotlib.pyplot as plt"
      ]
    },
    {
      "cell_type": "markdown",
      "source": [
        "## Получение данных"
      ],
      "metadata": {
        "id": "U4biq8P3oJpK"
      }
    },
    {
      "cell_type": "code",
      "source": [
        "data = pd.read_csv('/content/sample_data/energy_2.csv')\n",
        "print(data.head())"
      ],
      "metadata": {
        "colab": {
          "base_uri": "https://localhost:8080/",
          "height": 0
        },
        "id": "p1po0f4ZoMbx",
        "outputId": "34ab9302-aa45-4d6d-edf9-5bf3756e5efd"
      },
      "execution_count": 4,
      "outputs": [
        {
          "output_type": "stream",
          "name": "stdout",
          "text": [
            "             timestamp  site_id  building_id  meter  meter_reading  \\\n",
            "0  2016-01-01 00:00:00        0            0      0            0.0   \n",
            "1  2016-01-01 01:00:00        0            0      0            0.0   \n",
            "2  2016-01-01 02:00:00        0            0      0            0.0   \n",
            "3  2016-01-01 03:00:00        0            0      0            0.0   \n",
            "4  2016-01-01 04:00:00        0            0      0            0.0   \n",
            "\n",
            "  primary_use  square_feet  year_built  floor_count  air_temperature  \\\n",
            "0   Education         7432      2008.0          NaN             25.0   \n",
            "1   Education         7432      2008.0          NaN             24.4   \n",
            "2   Education         7432      2008.0          NaN             22.8   \n",
            "3   Education         7432      2008.0          NaN             21.1   \n",
            "4   Education         7432      2008.0          NaN             20.0   \n",
            "\n",
            "   cloud_coverage  dew_temperature  precip_depth_1_hr  sea_level_pressure  \\\n",
            "0             6.0             20.0                0.0              1019.7   \n",
            "1             0.0             21.1                0.0              1020.2   \n",
            "2             2.0             21.1                0.0              1020.2   \n",
            "3             2.0             20.6                0.0              1020.1   \n",
            "4             2.0             20.0                0.0              1020.0   \n",
            "\n",
            "   wind_direction  wind_speed  \n",
            "0             0.0         0.0  \n",
            "1            70.0         1.5  \n",
            "2             0.0         0.0  \n",
            "3             0.0         0.0  \n",
            "4           250.0         2.6  \n"
          ]
        }
      ]
    },
    {
      "cell_type": "code",
      "source": [
        "x = np.array(data.index).reshape(-1, 1)\n",
        "y = data['air_temperature']"
      ],
      "metadata": {
        "id": "jp59ZSMGp3qM"
      },
      "execution_count": 7,
      "outputs": []
    },
    {
      "cell_type": "markdown",
      "source": [
        "## Модель линейной регрессии"
      ],
      "metadata": {
        "id": "BN-DDgBMqZGr"
      }
    },
    {
      "cell_type": "code",
      "source": [
        "def calculate_bic (y, y_pred, power):\n",
        "  return len(y) * np.log(len(y) * mean_squared_error(y, y_pred)**2) + power * np.log(len(y))\n",
        "def calculate_aic (y, y_pred, power):\n",
        "  return len(y) * np.log(len(y) * mean_squared_error(y, y_pred)**2) + 2 * power"
      ],
      "metadata": {
        "id": "yyJ3A8WPqeTs"
      },
      "execution_count": 5,
      "outputs": []
    },
    {
      "cell_type": "code",
      "source": [
        "bics = [0]\n",
        "aics = [0]\n",
        "model = LinearRegression().fit(x, y)\n",
        "print ('Линейная регрессия R2: {0:.5}'.format(model.score(x, y)))\n",
        "bics.append(calculate_bic(y, model.predict(x), 1))\n",
        "print ('BIC: {0:.5}'.format(bics[1]))\n",
        "aics.append(calculate_aic(y, model.predict(x), 1))\n",
        "print ('AIC: {0:.5}'.format(aics[1]))"
      ],
      "metadata": {
        "colab": {
          "base_uri": "https://localhost:8080/",
          "height": 0
        },
        "id": "h8UG9fvXrlCL",
        "outputId": "666ef16d-b741-4ab4-ec44-2976bcfd59bf"
      },
      "execution_count": 10,
      "outputs": [
        {
          "output_type": "stream",
          "name": "stdout",
          "text": [
            "Линейная регрессия R2: 0.080983\n",
            "BIC: 1.4154e+05\n",
            "AIC: 1.4153e+05\n"
          ]
        }
      ]
    },
    {
      "cell_type": "markdown",
      "source": [
        "## Степенная регрессия"
      ],
      "metadata": {
        "id": "Lc516LxytNIl"
      }
    },
    {
      "cell_type": "code",
      "source": [
        "x_ = pd.DataFrame({'x1': data.index})\n",
        "for i in range (10):\n",
        "  x_['x' + str(i + 2)] = np.multiply(x_['x' + str(i + 1)], data.index)\n",
        "  model_ = LinearRegression().fit(x_, y)\n",
        "  aics.append(calculate_aic(y, model_.predict(x_), i + 2))\n",
        "  bics.append(calculate_bic(y, model_.predict(x_), i + 2))\n",
        "  print('Регрессия', (i+2), 'степени R2: {0:.5},'.format(model_.score(x_, y)), \n",
        "        'BIC: {0:.5},'.format(bics[i+2]), \n",
        "        'AIC: {0:.5},'.format(aics[i+2]))"
      ],
      "metadata": {
        "colab": {
          "base_uri": "https://localhost:8080/"
        },
        "id": "p4YwHwHQthsU",
        "outputId": "c32f0074-5c79-411d-bff2-386b3725d500"
      },
      "execution_count": 12,
      "outputs": [
        {
          "output_type": "stream",
          "name": "stdout",
          "text": [
            "Регрессия 2 степени R2: 0.48205, BIC: 1.3148e+05, AIC: 1.3146e+05,\n",
            "Регрессия 3 степени R2: 0.48588, BIC: 1.3136e+05, AIC: 1.3133e+05,\n",
            "Регрессия 4 степени R2: 0.50995, BIC: 1.3052e+05, AIC: 1.3049e+05,\n",
            "Регрессия 5 степени R2: 0.5098, BIC: 1.3054e+05, AIC: 1.305e+05,\n",
            "Регрессия 6 степени R2: 0.50982, BIC: 1.3054e+05, AIC: 1.305e+05,\n",
            "Регрессия 7 степени R2: 0.50983, BIC: 1.3055e+05, AIC: 1.305e+05,\n",
            "Регрессия 8 степени R2: 0.50989, BIC: 1.3056e+05, AIC: 1.305e+05,\n",
            "Регрессия 9 степени R2: 0.50996, BIC: 1.3057e+05, AIC: 1.305e+05,\n",
            "Регрессия 10 степени R2: 0.50996, BIC: 1.3058e+05, AIC: 1.3051e+05,\n",
            "Регрессия 11 степени R2: 0.50998, BIC: 1.3058e+05, AIC: 1.3051e+05,\n"
          ]
        }
      ]
    },
    {
      "cell_type": "code",
      "source": [
        "aics[0] = max(aics)\n",
        "bics[0] = max(bics)\n",
        "plt.plot(bics)\n",
        "plt.plot(aics)\n",
        "plt.legend(['BIC', 'AIC'])\n",
        "plt.show()"
      ],
      "metadata": {
        "colab": {
          "base_uri": "https://localhost:8080/",
          "height": 268
        },
        "id": "s7ADMLvpxbLL",
        "outputId": "f312a3a1-1d6c-45af-af8f-a70a3d3c736c"
      },
      "execution_count": 13,
      "outputs": [
        {
          "output_type": "display_data",
          "data": {
            "text/plain": [
              "<Figure size 432x288 with 1 Axes>"
            ],
            "image/png": "[encoded data removed]"
          },
          "metadata": {
            "needs_background": "light"
          }
        }
      ]
    }
  ]
}