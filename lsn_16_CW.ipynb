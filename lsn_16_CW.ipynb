{
 "cells": [
  {
   "cell_type": "code",
   "execution_count": 15,
   "metadata": {},
   "outputs": [],
   "source": [
    "import numpy as np\n",
    "import pandas as pd\n",
    "from sklearn.linear_model import LinearRegression\n",
    "from sklearn.isotonic import IsotonicRegression"
   ]
  },
  {
   "cell_type": "markdown",
   "metadata": {},
   "source": [
    "# получение данных"
   ]
  },
  {
   "cell_type": "code",
   "execution_count": 16,
   "metadata": {},
   "outputs": [
    {
     "name": "stdout",
     "output_type": "stream",
     "text": [
      "             timestamp  meter_reading  air_temperature  cloud_coverage  \\\n",
      "0  2016-01-30 08:00:00        43.6839              8.3             0.0   \n",
      "1  2016-01-31 05:00:00        37.5408             12.8             0.0   \n",
      "2  2016-01-31 17:00:00        52.5571             20.6             0.0   \n",
      "3  2016-04-08 14:00:00        59.3827             21.7             2.0   \n",
      "4  2016-05-01 19:00:00       448.0000             31.1             0.0   \n",
      "\n",
      "   dew_temperature  precip_depth_1_hr  sea_level_pressure  wind_speed  \\\n",
      "0              6.1                0.0              1019.0         2.1   \n",
      "1             10.0                0.0              1021.9         0.0   \n",
      "2             11.7                0.0              1020.9         1.5   \n",
      "3             14.4                0.0              1015.1         3.1   \n",
      "4             17.2                0.0              1016.1         4.1   \n",
      "\n",
      "   wind_direction_sin  wind_direction_cos  air_temperature1  hour  \n",
      "0        5.877853e-01        8.090170e-01              -2.3     8  \n",
      "1        0.000000e+00        1.000000e+00              -1.1     5  \n",
      "2       -3.090170e-01       -9.510565e-01               1.7    17  \n",
      "3        1.000000e+00        1.194340e-15               2.8    14  \n",
      "4        1.224647e-16       -1.000000e+00               1.1    19  \n"
     ]
    }
   ],
   "source": [
    "data = pd.read_csv('energy_data_2.csv')\n",
    "print(data.head())"
   ]
  },
  {
   "cell_type": "markdown",
   "metadata": {},
   "source": [
    "# модель линейной регрессии"
   ]
  },
  {
   "cell_type": "code",
   "execution_count": 17,
   "metadata": {},
   "outputs": [],
   "source": [
    "def rmsle_err (y, y_pred):\n",
    "    return((np.log(1 + y) - np.log(1 + y_pred))**2).mean()**0.5"
   ]
  },
  {
   "cell_type": "code",
   "execution_count": 18,
   "metadata": {},
   "outputs": [
    {
     "name": "stdout",
     "output_type": "stream",
     "text": [
      "RMSLE: 0.2228\n"
     ]
    }
   ],
   "source": [
    "x = np.array(data['air_temperature']).reshape(-1, 1)\n",
    "y = data['meter_reading']\n",
    "model = LinearRegression().fit(x, y)\n",
    "print('RMSLE: {0:.5}'.format(rmsle_err(y, model.predict(x))))"
   ]
  },
  {
   "cell_type": "markdown",
   "metadata": {},
   "source": [
    "# изотоническая регрессия\n",
    "## монотонная зависимость от параметра"
   ]
  },
  {
   "cell_type": "code",
   "execution_count": 19,
   "metadata": {},
   "outputs": [
    {
     "ename": "ValueError",
     "evalue": "X should be a 1d array",
     "output_type": "error",
     "traceback": [
      "\u001b[1;31m---------------------------------------------------------------------------\u001b[0m",
      "\u001b[1;31mValueError\u001b[0m                                Traceback (most recent call last)",
      "Input \u001b[1;32mIn [19]\u001b[0m, in \u001b[0;36m<cell line: 1>\u001b[1;34m()\u001b[0m\n\u001b[1;32m----> 1\u001b[0m model_is \u001b[38;5;241m=\u001b[39m \u001b[43mIsotonicRegression\u001b[49m\u001b[43m(\u001b[49m\u001b[43m)\u001b[49m\u001b[38;5;241;43m.\u001b[39;49m\u001b[43mfit\u001b[49m\u001b[43m(\u001b[49m\u001b[43mx\u001b[49m\u001b[43m,\u001b[49m\u001b[43my\u001b[49m\u001b[43m)\u001b[49m\n\u001b[0;32m      2\u001b[0m \u001b[38;5;28mprint\u001b[39m(\u001b[38;5;124m'\u001b[39m\u001b[38;5;124mRMSLE: \u001b[39m\u001b[38;5;132;01m{0:.5}\u001b[39;00m\u001b[38;5;124m'\u001b[39m\u001b[38;5;241m.\u001b[39mformat(rmsle_err(y, model_is\u001b[38;5;241m.\u001b[39mpredict(x))))\n",
      "File \u001b[1;32mC:\\anaconda3\\lib\\site-packages\\sklearn\\isotonic.py:313\u001b[0m, in \u001b[0;36mIsotonicRegression.fit\u001b[1;34m(self, X, y, sample_weight)\u001b[0m\n\u001b[0;32m    309\u001b[0m check_consistent_length(X, y, sample_weight)\n\u001b[0;32m    311\u001b[0m \u001b[38;5;66;03m# Transform y by running the isotonic regression algorithm and\u001b[39;00m\n\u001b[0;32m    312\u001b[0m \u001b[38;5;66;03m# transform X accordingly.\u001b[39;00m\n\u001b[1;32m--> 313\u001b[0m X, y \u001b[38;5;241m=\u001b[39m \u001b[38;5;28;43mself\u001b[39;49m\u001b[38;5;241;43m.\u001b[39;49m\u001b[43m_build_y\u001b[49m\u001b[43m(\u001b[49m\u001b[43mX\u001b[49m\u001b[43m,\u001b[49m\u001b[43m \u001b[49m\u001b[43my\u001b[49m\u001b[43m,\u001b[49m\u001b[43m \u001b[49m\u001b[43msample_weight\u001b[49m\u001b[43m)\u001b[49m\n\u001b[0;32m    315\u001b[0m \u001b[38;5;66;03m# It is necessary to store the non-redundant part of the training set\u001b[39;00m\n\u001b[0;32m    316\u001b[0m \u001b[38;5;66;03m# on the model to make it possible to support model persistence via\u001b[39;00m\n\u001b[0;32m    317\u001b[0m \u001b[38;5;66;03m# the pickle module as the object built by scipy.interp1d is not\u001b[39;00m\n\u001b[0;32m    318\u001b[0m \u001b[38;5;66;03m# picklable directly.\u001b[39;00m\n\u001b[0;32m    319\u001b[0m \u001b[38;5;28mself\u001b[39m\u001b[38;5;241m.\u001b[39m_necessary_X_, \u001b[38;5;28mself\u001b[39m\u001b[38;5;241m.\u001b[39m_necessary_y_ \u001b[38;5;241m=\u001b[39m X, y\n",
      "File \u001b[1;32mC:\\anaconda3\\lib\\site-packages\\sklearn\\isotonic.py:237\u001b[0m, in \u001b[0;36mIsotonicRegression._build_y\u001b[1;34m(self, X, y, sample_weight, trim_duplicates)\u001b[0m\n\u001b[0;32m    235\u001b[0m \u001b[38;5;28;01mdef\u001b[39;00m \u001b[38;5;21m_build_y\u001b[39m(\u001b[38;5;28mself\u001b[39m, X, y, sample_weight, trim_duplicates\u001b[38;5;241m=\u001b[39m\u001b[38;5;28;01mTrue\u001b[39;00m):\n\u001b[0;32m    236\u001b[0m     \u001b[38;5;124;03m\"\"\"Build the y_ IsotonicRegression.\"\"\"\u001b[39;00m\n\u001b[1;32m--> 237\u001b[0m     \u001b[38;5;28;43mself\u001b[39;49m\u001b[38;5;241;43m.\u001b[39;49m\u001b[43m_check_fit_data\u001b[49m\u001b[43m(\u001b[49m\u001b[43mX\u001b[49m\u001b[43m,\u001b[49m\u001b[43m \u001b[49m\u001b[43my\u001b[49m\u001b[43m,\u001b[49m\u001b[43m \u001b[49m\u001b[43msample_weight\u001b[49m\u001b[43m)\u001b[49m\n\u001b[0;32m    239\u001b[0m     \u001b[38;5;66;03m# Determine increasing if auto-determination requested\u001b[39;00m\n\u001b[0;32m    240\u001b[0m     \u001b[38;5;28;01mif\u001b[39;00m \u001b[38;5;28mself\u001b[39m\u001b[38;5;241m.\u001b[39mincreasing \u001b[38;5;241m==\u001b[39m \u001b[38;5;124m'\u001b[39m\u001b[38;5;124mauto\u001b[39m\u001b[38;5;124m'\u001b[39m:\n",
      "File \u001b[1;32mC:\\anaconda3\\lib\\site-packages\\sklearn\\isotonic.py:216\u001b[0m, in \u001b[0;36mIsotonicRegression._check_fit_data\u001b[1;34m(self, X, y, sample_weight)\u001b[0m\n\u001b[0;32m    214\u001b[0m \u001b[38;5;28;01mdef\u001b[39;00m \u001b[38;5;21m_check_fit_data\u001b[39m(\u001b[38;5;28mself\u001b[39m, X, y, sample_weight\u001b[38;5;241m=\u001b[39m\u001b[38;5;28;01mNone\u001b[39;00m):\n\u001b[0;32m    215\u001b[0m     \u001b[38;5;28;01mif\u001b[39;00m \u001b[38;5;28mlen\u001b[39m(X\u001b[38;5;241m.\u001b[39mshape) \u001b[38;5;241m!=\u001b[39m \u001b[38;5;241m1\u001b[39m:\n\u001b[1;32m--> 216\u001b[0m         \u001b[38;5;28;01mraise\u001b[39;00m \u001b[38;5;167;01mValueError\u001b[39;00m(\u001b[38;5;124m\"\u001b[39m\u001b[38;5;124mX should be a 1d array\u001b[39m\u001b[38;5;124m\"\u001b[39m)\n",
      "\u001b[1;31mValueError\u001b[0m: X should be a 1d array"
     ]
    }
   ],
   "source": [
    "model_is = IsotonicRegression().fit(x,y)\n",
    "print('RMSLE: {0:.5}'.format(rmsle_err(y, model_is.predict(x))))"
   ]
  },
  {
   "cell_type": "code",
   "execution_count": null,
   "metadata": {},
   "outputs": [],
   "source": []
  }
 ],
 "metadata": {
  "kernelspec": {
   "display_name": "Python 3 (ipykernel)",
   "language": "python",
   "name": "python3"
  },
  "language_info": {
   "codemirror_mode": {
    "name": "ipython",
    "version": 3
   },
   "file_extension": ".py",
   "mimetype": "text/x-python",
   "name": "python",
   "nbconvert_exporter": "python",
   "pygments_lexer": "ipython3",
   "version": "3.8.5"
  }
 },
 "nbformat": 4,
 "nbformat_minor": 4
}
