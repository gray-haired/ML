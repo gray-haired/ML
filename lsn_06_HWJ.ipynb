{
 "cells": [
  {
   "cell_type": "markdown",
   "metadata": {},
   "source": [
    "1. Используйте линейную интерполяцию для температуры воздуха, облачности \n",
    "    и точки росы\n",
    "2. Вычислите первую производную для температуры воздуха, запишите ее в столбец\n",
    "    air_temperature1\n",
    "3. Вычислите синус и косинус от угла направления ветра, запишите их в столбцы\n",
    "    wind_direction_cos, wind_direction_sin\n",
    "4. Удалите столбцы site_id, building_id, primary_use, square_feet, year_build,\n",
    "    floor_count, wind_direction - получилось\n",
    "5. Удалите из данных строки с meter_reading = 0 - получилось"
   ]
  },
  {
   "cell_type": "code",
   "execution_count": 3,
   "metadata": {},
   "outputs": [],
   "source": [
    "import pandas as pd\n",
    "import numpy as np\n",
    "import sklearn as skl"
   ]
  },
  {
   "cell_type": "code",
   "execution_count": 5,
   "metadata": {},
   "outputs": [
    {
     "name": "stdout",
     "output_type": "stream",
     "text": [
      "             timestamp  site_id  building_id  meter  meter_reading  \\\n",
      "0  2016-01-01 00:00:00        0            0      0            0.0   \n",
      "1  2016-01-01 01:00:00        0            0      0            0.0   \n",
      "2  2016-01-01 02:00:00        0            0      0            0.0   \n",
      "3  2016-01-01 03:00:00        0            0      0            0.0   \n",
      "4  2016-01-01 04:00:00        0            0      0            0.0   \n",
      "\n",
      "  primary_use  square_feet  year_built  floor_count  air_temperature  \\\n",
      "0   Education         7432      2008.0          NaN             25.0   \n",
      "1   Education         7432      2008.0          NaN             24.4   \n",
      "2   Education         7432      2008.0          NaN             22.8   \n",
      "3   Education         7432      2008.0          NaN             21.1   \n",
      "4   Education         7432      2008.0          NaN             20.0   \n",
      "\n",
      "   cloud_coverage  dew_temperature  precip_depth_1_hr  sea_level_pressure  \\\n",
      "0             6.0             20.0                0.0              1019.7   \n",
      "1             0.0             21.1                0.0              1020.2   \n",
      "2             2.0             21.1                0.0              1020.2   \n",
      "3             2.0             20.6                0.0              1020.1   \n",
      "4             2.0             20.0                0.0              1020.0   \n",
      "\n",
      "   wind_direction  wind_speed  \n",
      "0             0.0         0.0  \n",
      "1            70.0         1.5  \n",
      "2             0.0         0.0  \n",
      "3             0.0         0.0  \n",
      "4           250.0         2.6  \n"
     ]
    }
   ],
   "source": [
    "data = pd.read_csv('energy_2.csv')\n",
    "print (data.head())"
   ]
  },
  {
   "cell_type": "code",
   "execution_count": 7,
   "metadata": {},
   "outputs": [],
   "source": [
    "# столбцы wind_direction_cos, wind_direction_sin\n",
    "\n",
    "data['wind_direction_rad'] = data['wind_direction'] * np.pi / 100\n",
    "data['wind_direction_sin'] = np.sin(data['wind_direction_rad'])\n",
    "data['wind_direction_cos'] = np.cos(data['wind_direction_rad'])\n",
    "data = data.drop(labels = ['wind_direction_rad'], axis = 1)"
   ]
  },
  {
   "cell_type": "code",
   "execution_count": 8,
   "metadata": {},
   "outputs": [
    {
     "name": "stdout",
     "output_type": "stream",
     "text": [
      "             timestamp  site_id  building_id  meter  meter_reading  \\\n",
      "0  2016-01-01 00:00:00        0            0      0            0.0   \n",
      "1  2016-01-01 01:00:00        0            0      0            0.0   \n",
      "2  2016-01-01 02:00:00        0            0      0            0.0   \n",
      "3  2016-01-01 03:00:00        0            0      0            0.0   \n",
      "4  2016-01-01 04:00:00        0            0      0            0.0   \n",
      "\n",
      "  primary_use  square_feet  year_built  floor_count  air_temperature  \\\n",
      "0   Education         7432      2008.0          NaN             25.0   \n",
      "1   Education         7432      2008.0          NaN             24.4   \n",
      "2   Education         7432      2008.0          NaN             22.8   \n",
      "3   Education         7432      2008.0          NaN             21.1   \n",
      "4   Education         7432      2008.0          NaN             20.0   \n",
      "\n",
      "   cloud_coverage  dew_temperature  precip_depth_1_hr  sea_level_pressure  \\\n",
      "0             6.0             20.0                0.0              1019.7   \n",
      "1             0.0             21.1                0.0              1020.2   \n",
      "2             2.0             21.1                0.0              1020.2   \n",
      "3             2.0             20.6                0.0              1020.1   \n",
      "4             2.0             20.0                0.0              1020.0   \n",
      "\n",
      "   wind_direction  wind_speed  wind_direction_sin  wind_direction_cos  \n",
      "0             0.0         0.0            0.000000        1.000000e+00  \n",
      "1            70.0         1.5            0.809017       -5.877853e-01  \n",
      "2             0.0         0.0            0.000000        1.000000e+00  \n",
      "3             0.0         0.0            0.000000        1.000000e+00  \n",
      "4           250.0         2.6            1.000000        1.194340e-15  \n"
     ]
    }
   ],
   "source": [
    "print(data.head())"
   ]
  },
  {
   "cell_type": "code",
   "execution_count": 12,
   "metadata": {},
   "outputs": [],
   "source": [
    "# производная по температуре воздуха\n",
    "\n",
    "data['air_temperature1'] = data['air_temperature'].diff()\n",
    "data.at[0, 'air_temperature1'] = data.at[1, 'air_temperature1']"
   ]
  },
  {
   "cell_type": "code",
   "execution_count": 13,
   "metadata": {},
   "outputs": [],
   "source": [
    "# удаление пустых значений\n",
    "\n",
    "data = data.loc[data['meter_reading'] > 0]"
   ]
  },
  {
   "cell_type": "code",
   "execution_count": 15,
   "metadata": {},
   "outputs": [
    {
     "name": "stdout",
     "output_type": "stream",
     "text": [
      "                timestamp  meter_reading  air_temperature  cloud_coverage  \\\n",
      "704   2016-01-30 08:00:00        43.6839              8.3             0.0   \n",
      "725   2016-01-31 05:00:00        37.5408             12.8             0.0   \n",
      "737   2016-01-31 17:00:00        52.5571             20.6             0.0   \n",
      "2366  2016-04-08 14:00:00        59.3827             21.7             2.0   \n",
      "2923  2016-05-01 19:00:00       448.0000             31.1             0.0   \n",
      "\n",
      "      dew_temperature  precip_depth_1_hr  sea_level_pressure  wind_speed  \\\n",
      "704               6.1                0.0              1019.0         2.1   \n",
      "725              10.0                0.0              1021.9         0.0   \n",
      "737              11.7                0.0              1020.9         1.5   \n",
      "2366             14.4                0.0              1015.1         3.1   \n",
      "2923             17.2                0.0              1016.1         4.1   \n",
      "\n",
      "      wind_direction_sin  wind_direction_cos  air_temperature1  \n",
      "704         5.877853e-01        8.090170e-01              -2.3  \n",
      "725         0.000000e+00        1.000000e+00              -1.1  \n",
      "737        -3.090170e-01       -9.510565e-01               1.7  \n",
      "2366        1.000000e+00        1.194340e-15               2.8  \n",
      "2923        1.224647e-16       -1.000000e+00               1.1  \n"
     ]
    }
   ],
   "source": [
    "# уадаление ненужных столбцов\n",
    "\n",
    "data = data.drop(labels = ['site_id', 'building_id', 'meter', 'primary_use', 'square_feet',\n",
    "                         'year_built', 'floor_count', 'wind_direction'], axis = 1)\n",
    "print(data.head())"
   ]
  },
  {
   "cell_type": "code",
   "execution_count": 16,
   "metadata": {},
   "outputs": [],
   "source": [
    "data.to_csv('energy_data_1.csv', index = False)"
   ]
  }
 ],
 "metadata": {
  "kernelspec": {
   "display_name": "Python 3 (ipykernel)",
   "language": "python",
   "name": "python3"
  },
  "language_info": {
   "codemirror_mode": {
    "name": "ipython",
    "version": 3
   },
   "file_extension": ".py",
   "mimetype": "text/x-python",
   "name": "python",
   "nbconvert_exporter": "python",
   "pygments_lexer": "ipython3",
   "version": "3.8.5"
  }
 },
 "nbformat": 4,
 "nbformat_minor": 4
}
