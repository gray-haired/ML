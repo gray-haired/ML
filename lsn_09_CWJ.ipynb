{
 "cells": [
  {
   "cell_type": "markdown",
   "metadata": {},
   "source": [
    "Обучение и переобучение\n",
    "Построим модель по одному дню, Вычислим ее ошибку, сравним с базовой моделью"
   ]
  },
  {
   "cell_type": "code",
   "execution_count": 1,
   "metadata": {},
   "outputs": [],
   "source": [
    "import numpy as np\n",
    "import pandas as pd"
   ]
  },
  {
   "cell_type": "markdown",
   "metadata": {},
   "source": [
    "Выделение дня. \n",
    "Повторим операцию с timestamp"
   ]
  },
  {
   "cell_type": "code",
   "execution_count": 2,
   "metadata": {
    "scrolled": true
   },
   "outputs": [
    {
     "name": "stdout",
     "output_type": "stream",
     "text": [
      "             timestamp  meter_reading  air_temperature  cloud_coverage  \\\n",
      "0  2016-01-30 08:00:00        43.6839              8.3             0.0   \n",
      "1  2016-01-31 05:00:00        37.5408             12.8             0.0   \n",
      "2  2016-01-31 17:00:00        52.5571             20.6             0.0   \n",
      "3  2016-04-08 14:00:00        59.3827             21.7             2.0   \n",
      "4  2016-05-01 19:00:00       448.0000             31.1             0.0   \n",
      "\n",
      "   dew_temperature  precip_depth_1_hr  sea_level_pressure  wind_speed  \\\n",
      "0              6.1                0.0              1019.0         2.1   \n",
      "1             10.0                0.0              1021.9         0.0   \n",
      "2             11.7                0.0              1020.9         1.5   \n",
      "3             14.4                0.0              1015.1         3.1   \n",
      "4             17.2                0.0              1016.1         4.1   \n",
      "\n",
      "   wind_direction_sin  wind_direction_cos  air_temperature1  hour  \n",
      "0        5.877853e-01        8.090170e-01              -2.3     8  \n",
      "1        0.000000e+00        1.000000e+00              -1.1     5  \n",
      "2       -3.090170e-01       -9.510565e-01               1.7    17  \n",
      "3        1.000000e+00        1.194340e-15               2.8    14  \n",
      "4        1.224647e-16       -1.000000e+00               1.1    19  \n"
     ]
    }
   ],
   "source": [
    "data = pd.read_csv('energy_data_2.csv')\n",
    "print (data.head())"
   ]
  },
  {
   "cell_type": "markdown",
   "metadata": {},
   "source": [
    "Преобразуем метку времени в дату и выделим из даты день месяца"
   ]
  },
  {
   "cell_type": "code",
   "execution_count": 3,
   "metadata": {},
   "outputs": [
    {
     "name": "stdout",
     "output_type": "stream",
     "text": [
      "            timestamp  meter_reading  air_temperature  cloud_coverage  \\\n",
      "0 2016-01-30 08:00:00        43.6839              8.3             0.0   \n",
      "1 2016-01-31 05:00:00        37.5408             12.8             0.0   \n",
      "2 2016-01-31 17:00:00        52.5571             20.6             0.0   \n",
      "3 2016-04-08 14:00:00        59.3827             21.7             2.0   \n",
      "4 2016-05-01 19:00:00       448.0000             31.1             0.0   \n",
      "\n",
      "   dew_temperature  precip_depth_1_hr  sea_level_pressure  wind_speed  \\\n",
      "0              6.1                0.0              1019.0         2.1   \n",
      "1             10.0                0.0              1021.9         0.0   \n",
      "2             11.7                0.0              1020.9         1.5   \n",
      "3             14.4                0.0              1015.1         3.1   \n",
      "4             17.2                0.0              1016.1         4.1   \n",
      "\n",
      "   wind_direction_sin  wind_direction_cos  air_temperature1  hour  day  \n",
      "0        5.877853e-01        8.090170e-01              -2.3     8   30  \n",
      "1        0.000000e+00        1.000000e+00              -1.1     5   31  \n",
      "2       -3.090170e-01       -9.510565e-01               1.7    17   31  \n",
      "3        1.000000e+00        1.194340e-15               2.8    14    8  \n",
      "4        1.224647e-16       -1.000000e+00               1.1    19    1  \n"
     ]
    }
   ],
   "source": [
    "data['timestamp'] = pd.to_datetime(data['timestamp'])\n",
    "data['day'] = data['timestamp'].dt.day\n",
    "print (data.head())"
   ]
  },
  {
   "cell_type": "markdown",
   "metadata": {},
   "source": [
    "Сохраним данные"
   ]
  },
  {
   "cell_type": "code",
   "execution_count": 5,
   "metadata": {},
   "outputs": [],
   "source": [
    "data.to_csv('energy_data_3.csv', index = False)"
   ]
  },
  {
   "cell_type": "markdown",
   "metadata": {},
   "source": [
    "ПОСТРОЕНИЕ БАЗОВОЙ МОДЕЛИ\n",
    "Среднее значение и его ошибка"
   ]
  },
  {
   "cell_type": "code",
   "execution_count": 19,
   "metadata": {},
   "outputs": [
    {
     "name": "stdout",
     "output_type": "stream",
     "text": [
      "Модель: 237.7, Ошибка модели: 15.17%,\n"
     ]
    }
   ],
   "source": [
    "model = float(data['meter_reading'].mean())\n",
    "err = np.mean(np.abs(data['meter_reading'] - model))\n",
    "print ('Модель: {0:.4},'.format(model), 'Ошибка модели: {0:.4}%,'.format(100*err/model))"
   ]
  },
  {
   "cell_type": "markdown",
   "metadata": {},
   "source": [
    "Модель по 31-у дню месяца\n",
    "выбираем значения day == 31"
   ]
  },
  {
   "cell_type": "code",
   "execution_count": 11,
   "metadata": {},
   "outputs": [
    {
     "name": "stdout",
     "output_type": "stream",
     "text": [
      "              timestamp  meter_reading  air_temperature  cloud_coverage  \\\n",
      "1   2016-01-31 05:00:00        37.5408             12.8             0.0   \n",
      "2   2016-01-31 17:00:00        52.5571             20.6             0.0   \n",
      "251 2016-05-31 00:00:00       178.1480             26.7             6.0   \n",
      "252 2016-05-31 01:00:00       174.0530             26.1             0.0   \n",
      "253 2016-05-31 02:00:00       176.7830             25.6             0.0   \n",
      "\n",
      "     dew_temperature  precip_depth_1_hr  sea_level_pressure  wind_speed  \\\n",
      "1               10.0                0.0              1021.9         0.0   \n",
      "2               11.7                0.0              1020.9         1.5   \n",
      "251             19.4                0.0              1014.2         2.6   \n",
      "252             19.4                0.0              1014.5         2.6   \n",
      "253             20.0                0.0              1015.7         4.6   \n",
      "\n",
      "     wind_direction_sin  wind_direction_cos  air_temperature1  hour  day  \n",
      "1          0.000000e+00            1.000000              -1.1     5   31  \n",
      "2         -3.090170e-01           -0.951057               1.7    17   31  \n",
      "251        3.090170e-01            0.951057              -1.1     0   31  \n",
      "252       -2.449294e-16            1.000000              -0.6     1   31  \n",
      "253        9.510565e-01            0.309017              -0.5     2   31  \n"
     ]
    }
   ],
   "source": [
    "data_31 = data.loc[data['day'] == 31]\n",
    "print (data_31.head())"
   ]
  },
  {
   "cell_type": "markdown",
   "metadata": {},
   "source": [
    "Построим модель по дню и сравним ее точность с базовой моделью"
   ]
  },
  {
   "cell_type": "code",
   "execution_count": 20,
   "metadata": {},
   "outputs": [
    {
     "name": "stdout",
     "output_type": "stream",
     "text": [
      "Модель: 219.4, Ошибка модели: 17.77%, Ошибка базовой модели: 15.17%,\n"
     ]
    }
   ],
   "source": [
    "model_31 = float(data_31['meter_reading'].mean())\n",
    "err_31 = np.mean(np.abs(data_31['meter_reading'] - model_31))\n",
    "print ('Модель: {0:.4},'.format(model_31), 'Ошибка модели: {0:.4}%,'.format(100*err_31/model_31),\n",
    "       'Ошибка базовой модели: {0:.4}%,'.format(100*err/model))"
   ]
  }
 ],
 "metadata": {
  "kernelspec": {
   "display_name": "Python 3",
   "language": "python",
   "name": "python3"
  },
  "language_info": {
   "codemirror_mode": {
    "name": "ipython",
    "version": 3
   },
   "file_extension": ".py",
   "mimetype": "text/x-python",
   "name": "python",
   "nbconvert_exporter": "python",
   "pygments_lexer": "ipython3",
   "version": "3.7.0"
  }
 },
 "nbformat": 4,
 "nbformat_minor": 4
}
