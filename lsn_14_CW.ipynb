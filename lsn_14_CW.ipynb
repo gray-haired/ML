{
 "cells": [
  {
   "cell_type": "code",
   "execution_count": 4,
   "metadata": {},
   "outputs": [],
   "source": [
    "import optuna\n",
    "import numpy as np\n",
    "import pandas as pd\n",
    "from sklearn.preprocessing import MinMaxScaler\n",
    "from sklearn.linear_model import LinearRegression, ElasticNet\n",
    "from sklearn.model_selection import RandomizedSearchCV\n",
    "from scipy.stats import uniform\n",
    "from sklearn.metrics import mean_squared_log_error"
   ]
  },
  {
   "cell_type": "code",
   "execution_count": 7,
   "metadata": {},
   "outputs": [
    {
     "name": "stdout",
     "output_type": "stream",
     "text": [
      "             timestamp  meter_reading  air_temperature  cloud_coverage  \\\n",
      "0  2016-01-30 08:00:00        43.6839              8.3             0.0   \n",
      "1  2016-01-31 05:00:00        37.5408             12.8             0.0   \n",
      "2  2016-01-31 17:00:00        52.5571             20.6             0.0   \n",
      "3  2016-04-08 14:00:00        59.3827             21.7             2.0   \n",
      "4  2016-05-01 19:00:00       448.0000             31.1             0.0   \n",
      "\n",
      "   dew_temperature  precip_depth_1_hr  sea_level_pressure  wind_speed  \\\n",
      "0              6.1                0.0              1019.0         2.1   \n",
      "1             10.0                0.0              1021.9         0.0   \n",
      "2             11.7                0.0              1020.9         1.5   \n",
      "3             14.4                0.0              1015.1         3.1   \n",
      "4             17.2                0.0              1016.1         4.1   \n",
      "\n",
      "   wind_direction_sin  wind_direction_cos  air_temperature1  hour  \n",
      "0        5.877853e-01        8.090170e-01              -2.3     8  \n",
      "1        0.000000e+00        1.000000e+00              -1.1     5  \n",
      "2       -3.090170e-01       -9.510565e-01               1.7    17  \n",
      "3        1.000000e+00        1.194340e-15               2.8    14  \n",
      "4        1.224647e-16       -1.000000e+00               1.1    19  \n"
     ]
    }
   ],
   "source": [
    "data = pd.read_csv('energy_data_2.csv')\n",
    "print(data.head())"
   ]
  },
  {
   "cell_type": "code",
   "execution_count": 8,
   "metadata": {},
   "outputs": [],
   "source": [
    "# нормализация параметров\n",
    "\n",
    "data_norm = MinMaxScaler().fit_transform(data[['air_temperature', \n",
    "                                              'sea_level_pressure',\n",
    "                                              'cloud_coverage',\n",
    "                                              'dew_temperature',\n",
    "                                              'precip_depth_1_hr',\n",
    "                                              'wind_speed',\n",
    "                                              'wind_direction_sin',\n",
    "                                              'wind_direction_cos',\n",
    "                                              'air_temperature1']])"
   ]
  },
  {
   "cell_type": "code",
   "execution_count": 13,
   "metadata": {},
   "outputs": [],
   "source": [
    "# Модель линейной регрессии\n",
    "# без регуляризации\n",
    "\n",
    "def rmsle_err(y, y_pred):\n",
    "    return((np.log(1 + y) - np.log(1 + y_pred))**2).mean()**0.5"
   ]
  },
  {
   "cell_type": "code",
   "execution_count": 14,
   "metadata": {},
   "outputs": [
    {
     "name": "stdout",
     "output_type": "stream",
     "text": [
      "RMSLE: 0.21213\n"
     ]
    }
   ],
   "source": [
    "x = data_norm\n",
    "y = data['meter_reading']\n",
    "model = LinearRegression().fit(x , y)\n",
    "print(\"RMSLE: {0:.5}\".format(rmsle_err(y, model.predict(x))))"
   ]
  },
  {
   "cell_type": "code",
   "execution_count": 17,
   "metadata": {},
   "outputs": [],
   "source": [
    "# Случайная оптимизация\n",
    "# Используем случайный поиск для двух гиперпараметров alpha и l1_ratio\n",
    "\n",
    "model_el = ElasticNet()"
   ]
  },
  {
   "cell_type": "code",
   "execution_count": 16,
   "metadata": {},
   "outputs": [],
   "source": [
    "# Зададим случайные выборки для гиперпараметров\n",
    "\n",
    "distribution = dict(alpha = uniform(loc = 0, scale = 1),\n",
    "                   l1_ratio = uniform(loc = 0, scale = 1))"
   ]
  },
  {
   "cell_type": "code",
   "execution_count": 18,
   "metadata": {},
   "outputs": [],
   "source": [
    "clf = RandomizedSearchCV(model_el, distribution, random_state = 0)"
   ]
  },
  {
   "cell_type": "code",
   "execution_count": 19,
   "metadata": {},
   "outputs": [
    {
     "name": "stdout",
     "output_type": "stream",
     "text": [
      "{'alpha': 0.02021839744032572, 'l1_ratio': 0.832619845547938}\n"
     ]
    }
   ],
   "source": [
    "# Проведем поиск\n",
    "\n",
    "search = clf.fit(x , y)\n",
    "print(search.best_params_)"
   ]
  },
  {
   "cell_type": "code",
   "execution_count": 20,
   "metadata": {},
   "outputs": [
    {
     "name": "stdout",
     "output_type": "stream",
     "text": [
      "RMSLE: 0.21203\n"
     ]
    }
   ],
   "source": [
    "# создадим оптимальную модель и оценим ее точность\n",
    "\n",
    "model_el = ElasticNet(alpha = search.best_params_['alpha'],\n",
    "                     l1_ratio = search.best_params_['l1_ratio']).fit(x , y)\n",
    "print(\"RMSLE: {0:.5}\".format(rmsle_err(y, model_el.predict(x))))"
   ]
  },
  {
   "cell_type": "code",
   "execution_count": 22,
   "metadata": {},
   "outputs": [],
   "source": [
    "# OPTUNA\n",
    "# Объединим процесс обучения и проверки модели с гиперпараметрами в один шаг\n",
    "\n",
    "def objective(trial):\n",
    "    alpha = trial.suggest_float('alpha', 1e-8, 1, log = True)\n",
    "    l1_ratio = trial.suggest_float('l1_ratio', 1e-3, 1, log = True)\n",
    "    regressor_obj = ElasticNet(alpha = alpha, l1_ratio = l1_ratio)\n",
    "    regressor_obj.fit(x , y)\n",
    "    y_pred = regressor_obj.predict(x)\n",
    "    return mean_squared_log_error(y, y_pred)"
   ]
  },
  {
   "cell_type": "code",
   "execution_count": 25,
   "metadata": {
    "scrolled": true,
    "tags": []
   },
   "outputs": [
    {
     "name": "stderr",
     "output_type": "stream",
     "text": [
      "\u001b[32m[I 2022-05-15 21:40:49,663]\u001b[0m A new study created in memory with name: no-name-f482db05-7bcc-41f1-832c-f68f0159d8f6\u001b[0m\n",
      "\u001b[32m[I 2022-05-15 21:40:49,675]\u001b[0m Trial 0 finished with value: 0.04499789822993763 and parameters: {'alpha': 1.2360747354830308e-06, 'l1_ratio': 0.003453372749616612}. Best is trial 0 with value: 0.04499789822993763.\u001b[0m\n",
      "\u001b[32m[I 2022-05-15 21:40:49,694]\u001b[0m Trial 1 finished with value: 0.045509221864268604 and parameters: {'alpha': 0.009174106530026553, 'l1_ratio': 0.03591286553968817}. Best is trial 0 with value: 0.04499789822993763.\u001b[0m\n",
      "\u001b[32m[I 2022-05-15 21:40:49,712]\u001b[0m Trial 2 finished with value: 0.04558793648858625 and parameters: {'alpha': 0.009662291578815995, 'l1_ratio': 0.029771058162605665}. Best is trial 0 with value: 0.04499789822993763.\u001b[0m\n",
      "\u001b[32m[I 2022-05-15 21:40:49,728]\u001b[0m Trial 3 finished with value: 0.04499806570332884 and parameters: {'alpha': 2.9299606853857364e-08, 'l1_ratio': 0.014434271629454353}. Best is trial 0 with value: 0.04499789822993763.\u001b[0m\n",
      "\u001b[32m[I 2022-05-15 21:40:49,745]\u001b[0m Trial 4 finished with value: 0.044998066644573356 and parameters: {'alpha': 2.2366738811717844e-08, 'l1_ratio': 0.01116646203228982}. Best is trial 0 with value: 0.04499789822993763.\u001b[0m\n",
      "\u001b[32m[I 2022-05-15 21:40:49,759]\u001b[0m Trial 5 finished with value: 0.04499806777097355 and parameters: {'alpha': 1.546698078918975e-08, 'l1_ratio': 0.09201770857105408}. Best is trial 0 with value: 0.04499789822993763.\u001b[0m\n",
      "\u001b[32m[I 2022-05-15 21:40:49,772]\u001b[0m Trial 6 finished with value: 0.04496190802118875 and parameters: {'alpha': 0.0003338752799189823, 'l1_ratio': 0.13785234983593236}. Best is trial 6 with value: 0.04496190802118875.\u001b[0m\n",
      "\u001b[32m[I 2022-05-15 21:40:49,786]\u001b[0m Trial 7 finished with value: 0.04499764796570876 and parameters: {'alpha': 3.03448678915157e-06, 'l1_ratio': 0.0010854632424601362}. Best is trial 6 with value: 0.04496190802118875.\u001b[0m\n",
      "\u001b[32m[I 2022-05-15 21:40:49,793]\u001b[0m Trial 8 finished with value: 0.05635856555258635 and parameters: {'alpha': 0.12366404484459974, 'l1_ratio': 0.03663832226195035}. Best is trial 6 with value: 0.04496190802118875.\u001b[0m\n",
      "\u001b[32m[I 2022-05-15 21:40:49,806]\u001b[0m Trial 9 finished with value: 0.04499804987793167 and parameters: {'alpha': 1.4281939752518085e-07, 'l1_ratio': 0.002242432151904364}. Best is trial 6 with value: 0.04496190802118875.\u001b[0m\n",
      "\u001b[32m[I 2022-05-15 21:40:49,833]\u001b[0m Trial 10 finished with value: 0.04499520245942095 and parameters: {'alpha': 0.00014292378138258322, 'l1_ratio': 0.8447830465303198}. Best is trial 6 with value: 0.04496190802118875.\u001b[0m\n",
      "\u001b[32m[I 2022-05-15 21:40:49,857]\u001b[0m Trial 11 finished with value: 0.04498717800548575 and parameters: {'alpha': 0.00013566141517184192, 'l1_ratio': 0.4021855317749203}. Best is trial 6 with value: 0.04496190802118875.\u001b[0m\n",
      "\u001b[32m[I 2022-05-15 21:40:49,888]\u001b[0m Trial 12 finished with value: 0.04499176156274055 and parameters: {'alpha': 7.769726582626786e-05, 'l1_ratio': 0.40280237589012813}. Best is trial 6 with value: 0.04496190802118875.\u001b[0m\n",
      "\u001b[32m[I 2022-05-15 21:40:49,927]\u001b[0m Trial 13 finished with value: 0.044978676175829096 and parameters: {'alpha': 0.00017989852277686325, 'l1_ratio': 0.18300360396150075}. Best is trial 6 with value: 0.04496190802118875.\u001b[0m\n",
      "\u001b[32m[I 2022-05-15 21:40:49,961]\u001b[0m Trial 14 finished with value: 0.044880588880592195 and parameters: {'alpha': 0.0017220769408049022, 'l1_ratio': 0.1339843341222398}. Best is trial 14 with value: 0.044880588880592195.\u001b[0m\n",
      "\u001b[32m[I 2022-05-15 21:40:49,986]\u001b[0m Trial 15 finished with value: 0.044888672101014174 and parameters: {'alpha': 0.0032471559933306927, 'l1_ratio': 0.10863811033863559}. Best is trial 14 with value: 0.044880588880592195.\u001b[0m\n",
      "\u001b[32m[I 2022-05-15 21:40:50,003]\u001b[0m Trial 16 finished with value: 0.06100102468827462 and parameters: {'alpha': 0.41661799339079997, 'l1_ratio': 0.07586603347302225}. Best is trial 14 with value: 0.044880588880592195.\u001b[0m\n",
      "\u001b[32m[I 2022-05-15 21:40:50,021]\u001b[0m Trial 17 finished with value: 0.04489190151861515 and parameters: {'alpha': 0.004125812723616211, 'l1_ratio': 0.29178352436911853}. Best is trial 14 with value: 0.044880588880592195.\u001b[0m\n",
      "\u001b[32m[I 2022-05-15 21:40:50,039]\u001b[0m Trial 18 finished with value: 0.044969911984822676 and parameters: {'alpha': 0.001269702880789354, 'l1_ratio': 0.8162307086214653}. Best is trial 14 with value: 0.044880588880592195.\u001b[0m\n",
      "\u001b[32m[I 2022-05-15 21:40:50,057]\u001b[0m Trial 19 finished with value: 0.052647467740512925 and parameters: {'alpha': 0.06579412348031002, 'l1_ratio': 0.07770545516628401}. Best is trial 14 with value: 0.044880588880592195.\u001b[0m\n",
      "\u001b[32m[I 2022-05-15 21:40:50,080]\u001b[0m Trial 20 finished with value: 0.044996665750344625 and parameters: {'alpha': 1.0235570100158705e-05, 'l1_ratio': 0.011637160026426287}. Best is trial 14 with value: 0.044880588880592195.\u001b[0m\n",
      "\u001b[32m[I 2022-05-15 21:40:50,099]\u001b[0m Trial 21 finished with value: 0.04489645655732558 and parameters: {'alpha': 0.00416196085425863, 'l1_ratio': 0.2682049819938453}. Best is trial 14 with value: 0.044880588880592195.\u001b[0m\n",
      "\u001b[32m[I 2022-05-15 21:40:50,116]\u001b[0m Trial 22 finished with value: 0.04763638171218421 and parameters: {'alpha': 0.02923596037961001, 'l1_ratio': 0.26509179686133494}. Best is trial 14 with value: 0.044880588880592195.\u001b[0m\n",
      "\u001b[32m[I 2022-05-15 21:40:50,140]\u001b[0m Trial 23 finished with value: 0.044899779058767464 and parameters: {'alpha': 0.001192448408529196, 'l1_ratio': 0.13271709548058952}. Best is trial 14 with value: 0.044880588880592195.\u001b[0m\n",
      "\u001b[32m[I 2022-05-15 21:40:50,184]\u001b[0m Trial 24 finished with value: 0.044996054244838546 and parameters: {'alpha': 2.6516393894952484e-05, 'l1_ratio': 0.44615538649912123}. Best is trial 14 with value: 0.044880588880592195.\u001b[0m\n",
      "\u001b[32m[I 2022-05-15 21:40:50,230]\u001b[0m Trial 25 finished with value: 0.04489967153764659 and parameters: {'alpha': 0.0010837331234874285, 'l1_ratio': 0.04743031566003662}. Best is trial 14 with value: 0.044880588880592195.\u001b[0m\n",
      "\u001b[32m[I 2022-05-15 21:40:50,254]\u001b[0m Trial 26 finished with value: 0.0448962579699412 and parameters: {'alpha': 0.0039058156471904605, 'l1_ratio': 0.21717046405336296}. Best is trial 14 with value: 0.044880588880592195.\u001b[0m\n",
      "\u001b[32m[I 2022-05-15 21:40:50,288]\u001b[0m Trial 27 finished with value: 0.04603727067594637 and parameters: {'alpha': 0.02760613110801747, 'l1_ratio': 0.5695614050346015}. Best is trial 14 with value: 0.044880588880592195.\u001b[0m\n",
      "\u001b[32m[I 2022-05-15 21:40:50,315]\u001b[0m Trial 28 finished with value: 0.06034063669208564 and parameters: {'alpha': 0.31645681254256547, 'l1_ratio': 0.023124338191230567}. Best is trial 14 with value: 0.044880588880592195.\u001b[0m\n",
      "\u001b[32m[I 2022-05-15 21:40:50,340]\u001b[0m Trial 29 finished with value: 0.044917139134060396 and parameters: {'alpha': 0.0008215314425322304, 'l1_ratio': 0.06651116553987531}. Best is trial 14 with value: 0.044880588880592195.\u001b[0m\n",
      "\u001b[32m[I 2022-05-15 21:40:50,370]\u001b[0m Trial 30 finished with value: 0.04499504423105966 and parameters: {'alpha': 2.5245011871208924e-05, 'l1_ratio': 0.13143682442688612}. Best is trial 14 with value: 0.044880588880592195.\u001b[0m\n",
      "\u001b[32m[I 2022-05-15 21:40:50,399]\u001b[0m Trial 31 finished with value: 0.0448818954945387 and parameters: {'alpha': 0.003432932615685433, 'l1_ratio': 0.23306353348619252}. Best is trial 14 with value: 0.044880588880592195.\u001b[0m\n",
      "\u001b[32m[I 2022-05-15 21:40:50,433]\u001b[0m Trial 32 finished with value: 0.04489029095720187 and parameters: {'alpha': 0.004033813132392827, 'l1_ratio': 0.286312521031883}. Best is trial 14 with value: 0.044880588880592195.\u001b[0m\n",
      "\u001b[32m[I 2022-05-15 21:40:50,460]\u001b[0m Trial 33 finished with value: 0.046081578370730486 and parameters: {'alpha': 0.015039336037839962, 'l1_ratio': 0.1738108102997953}. Best is trial 14 with value: 0.044880588880592195.\u001b[0m\n",
      "\u001b[32m[I 2022-05-15 21:40:50,483]\u001b[0m Trial 34 finished with value: 0.04494432409378536 and parameters: {'alpha': 0.004436133120593662, 'l1_ratio': 0.11143935511004772}. Best is trial 14 with value: 0.044880588880592195.\u001b[0m\n",
      "\u001b[32m[I 2022-05-15 21:40:50,510]\u001b[0m Trial 35 finished with value: 0.04494289055426308 and parameters: {'alpha': 0.0004921314780710992, 'l1_ratio': 0.04921571785513274}. Best is trial 14 with value: 0.044880588880592195.\u001b[0m\n",
      "\u001b[32m[I 2022-05-15 21:40:50,536]\u001b[0m Trial 36 finished with value: 0.052247864996292415 and parameters: {'alpha': 0.05704491509704212, 'l1_ratio': 0.006674767598067568}. Best is trial 14 with value: 0.044880588880592195.\u001b[0m\n",
      "\u001b[32m[I 2022-05-15 21:40:50,562]\u001b[0m Trial 37 finished with value: 0.046018490818260205 and parameters: {'alpha': 0.012339797857377434, 'l1_ratio': 0.02007014927829714}. Best is trial 14 with value: 0.044880588880592195.\u001b[0m\n",
      "\u001b[32m[I 2022-05-15 21:40:50,586]\u001b[0m Trial 38 finished with value: 0.04489712174083538 and parameters: {'alpha': 0.0027555811226746747, 'l1_ratio': 0.5857866905621472}. Best is trial 14 with value: 0.044880588880592195.\u001b[0m\n",
      "\u001b[32m[I 2022-05-15 21:40:50,614]\u001b[0m Trial 39 finished with value: 0.05792537656215381 and parameters: {'alpha': 0.1732229366624689, 'l1_ratio': 0.0514825834023856}. Best is trial 14 with value: 0.044880588880592195.\u001b[0m\n",
      "\u001b[32m[I 2022-05-15 21:40:50,642]\u001b[0m Trial 40 finished with value: 0.04495792243120104 and parameters: {'alpha': 0.00036201453040001733, 'l1_ratio': 0.10643581484387048}. Best is trial 14 with value: 0.044880588880592195.\u001b[0m\n",
      "\u001b[32m[I 2022-05-15 21:40:50,667]\u001b[0m Trial 41 finished with value: 0.04513086321126972 and parameters: {'alpha': 0.00831890706433308, 'l1_ratio': 0.29004614624933134}. Best is trial 14 with value: 0.044880588880592195.\u001b[0m\n",
      "\u001b[32m[I 2022-05-15 21:40:50,694]\u001b[0m Trial 42 finished with value: 0.04489175297674843 and parameters: {'alpha': 0.0018263738880112121, 'l1_ratio': 0.33717756827177386}. Best is trial 14 with value: 0.044880588880592195.\u001b[0m\n",
      "\u001b[32m[I 2022-05-15 21:40:50,720]\u001b[0m Trial 43 finished with value: 0.04488255604050642 and parameters: {'alpha': 0.0017349660308505804, 'l1_ratio': 0.17462103027946616}. Best is trial 14 with value: 0.044880588880592195.\u001b[0m\n",
      "\u001b[32m[I 2022-05-15 21:40:50,750]\u001b[0m Trial 44 finished with value: 0.04493359914545232 and parameters: {'alpha': 0.008915279789286773, 'l1_ratio': 0.6019595064359334}. Best is trial 14 with value: 0.044880588880592195.\u001b[0m\n",
      "\u001b[32m[I 2022-05-15 21:40:50,779]\u001b[0m Trial 45 finished with value: 0.044945109380318406 and parameters: {'alpha': 0.0005367648871293124, 'l1_ratio': 0.16777727581905824}. Best is trial 14 with value: 0.044880588880592195.\u001b[0m\n",
      "\u001b[32m[I 2022-05-15 21:40:50,807]\u001b[0m Trial 46 finished with value: 0.04499259660465171 and parameters: {'alpha': 5.045283873903506e-05, 'l1_ratio': 0.2077899011751321}. Best is trial 14 with value: 0.044880588880592195.\u001b[0m\n",
      "\u001b[32m[I 2022-05-15 21:40:50,834]\u001b[0m Trial 47 finished with value: 0.04499805232009627 and parameters: {'alpha': 1.3836031563381832e-07, 'l1_ratio': 0.09569903763439354}. Best is trial 14 with value: 0.044880588880592195.\u001b[0m\n",
      "\u001b[32m[I 2022-05-15 21:40:50,917]\u001b[0m Trial 48 finished with value: 0.049005518952369334 and parameters: {'alpha': 0.03133761868232716, 'l1_ratio': 0.034792495854516485}. Best is trial 14 with value: 0.044880588880592195.\u001b[0m\n",
      "\u001b[32m[I 2022-05-15 21:40:50,950]\u001b[0m Trial 49 finished with value: 0.04497890471422533 and parameters: {'alpha': 0.0001552386544391491, 'l1_ratio': 0.06692562655505409}. Best is trial 14 with value: 0.044880588880592195.\u001b[0m\n",
      "\u001b[32m[I 2022-05-15 21:40:50,979]\u001b[0m Trial 50 finished with value: 0.04487581747109587 and parameters: {'alpha': 0.001999454741950065, 'l1_ratio': 0.1462595833759192}. Best is trial 50 with value: 0.04487581747109587.\u001b[0m\n",
      "\u001b[32m[I 2022-05-15 21:40:51,007]\u001b[0m Trial 51 finished with value: 0.04488137064971804 and parameters: {'alpha': 0.0017327925071763926, 'l1_ratio': 0.15314533908507355}. Best is trial 50 with value: 0.04487581747109587.\u001b[0m\n",
      "\u001b[32m[I 2022-05-15 21:40:51,029]\u001b[0m Trial 52 finished with value: 0.04493054216491331 and parameters: {'alpha': 0.000705897328228252, 'l1_ratio': 0.14594622137408825}. Best is trial 50 with value: 0.04487581747109587.\u001b[0m\n",
      "\u001b[32m[I 2022-05-15 21:40:51,074]\u001b[0m Trial 53 finished with value: 0.04487519951411149 and parameters: {'alpha': 0.0019030458908628075, 'l1_ratio': 0.09204233468523423}. Best is trial 53 with value: 0.04487519951411149.\u001b[0m\n",
      "\u001b[32m[I 2022-05-15 21:40:51,098]\u001b[0m Trial 54 finished with value: 0.06251930816062949 and parameters: {'alpha': 0.9876208736779069, 'l1_ratio': 0.2223648175720902}. Best is trial 53 with value: 0.04487519951411149.\u001b[0m\n",
      "\u001b[32m[I 2022-05-15 21:40:51,128]\u001b[0m Trial 55 finished with value: 0.04496651068022603 and parameters: {'alpha': 0.00027052043718332747, 'l1_ratio': 0.08551350445446526}. Best is trial 53 with value: 0.04487519951411149.\u001b[0m\n",
      "\u001b[32m[I 2022-05-15 21:40:51,160]\u001b[0m Trial 56 finished with value: 0.04490964316469803 and parameters: {'alpha': 0.00149520986007205, 'l1_ratio': 0.4057776520620336}. Best is trial 53 with value: 0.04487519951411149.\u001b[0m\n",
      "\u001b[32m[I 2022-05-15 21:40:51,191]\u001b[0m Trial 57 finished with value: 0.04498934260747549 and parameters: {'alpha': 7.536279172804512e-05, 'l1_ratio': 0.14804792336711178}. Best is trial 53 with value: 0.04487519951411149.\u001b[0m\n",
      "\u001b[32m[I 2022-05-15 21:40:51,222]\u001b[0m Trial 58 finished with value: 0.04487353911103347 and parameters: {'alpha': 0.0022871657427479277, 'l1_ratio': 0.001063801563781147}. Best is trial 58 with value: 0.04487353911103347.\u001b[0m\n",
      "\u001b[32m[I 2022-05-15 21:40:51,252]\u001b[0m Trial 59 finished with value: 0.04534951136748964 and parameters: {'alpha': 0.007732504936050173, 'l1_ratio': 0.0011524419289690984}. Best is trial 58 with value: 0.04487353911103347.\u001b[0m\n",
      "\u001b[32m[I 2022-05-15 21:40:51,277]\u001b[0m Trial 60 finished with value: 0.046346849855964635 and parameters: {'alpha': 0.014155321023560227, 'l1_ratio': 0.0067158120553848025}. Best is trial 58 with value: 0.04487353911103347.\u001b[0m\n",
      "\u001b[32m[I 2022-05-15 21:40:51,305]\u001b[0m Trial 61 finished with value: 0.04487259555073753 and parameters: {'alpha': 0.0019413018661932607, 'l1_ratio': 0.002979135818528971}. Best is trial 61 with value: 0.04487259555073753.\u001b[0m\n",
      "\u001b[32m[I 2022-05-15 21:40:51,329]\u001b[0m Trial 62 finished with value: 0.04496115658251905 and parameters: {'alpha': 0.0002945943019726106, 'l1_ratio': 0.0026835229658855046}. Best is trial 61 with value: 0.04487259555073753.\u001b[0m\n",
      "\u001b[32m[I 2022-05-15 21:40:51,358]\u001b[0m Trial 63 finished with value: 0.044874990294321765 and parameters: {'alpha': 0.0023985626303358013, 'l1_ratio': 0.0012346031507761831}. Best is trial 61 with value: 0.04487259555073753.\u001b[0m\n",
      "\u001b[32m[I 2022-05-15 21:40:51,386]\u001b[0m Trial 64 finished with value: 0.044922714178534225 and parameters: {'alpha': 0.0006952195036660014, 'l1_ratio': 0.001894050926407546}. Best is trial 61 with value: 0.04487259555073753.\u001b[0m\n",
      "\u001b[32m[I 2022-05-15 21:40:51,412]\u001b[0m Trial 65 finished with value: 0.04487264107618239 and parameters: {'alpha': 0.0019282015409625057, 'l1_ratio': 0.0010965151257842426}. Best is trial 61 with value: 0.04487259555073753.\u001b[0m\n",
      "\u001b[32m[I 2022-05-15 21:40:51,441]\u001b[0m Trial 66 finished with value: 0.045218719918180314 and parameters: {'alpha': 0.006728145899893737, 'l1_ratio': 0.00142963249705208}. Best is trial 61 with value: 0.04487259555073753.\u001b[0m\n",
      "\u001b[32m[I 2022-05-15 21:40:51,470]\u001b[0m Trial 67 finished with value: 0.04487608695644914 and parameters: {'alpha': 0.0024697288855890127, 'l1_ratio': 0.004027730201218859}. Best is trial 61 with value: 0.04487259555073753.\u001b[0m\n",
      "\u001b[32m[I 2022-05-15 21:40:51,496]\u001b[0m Trial 68 finished with value: 0.04710496564670237 and parameters: {'alpha': 0.01858006067090031, 'l1_ratio': 0.00403732271862007}. Best is trial 61 with value: 0.04487259555073753.\u001b[0m\n",
      "\u001b[32m[I 2022-05-15 21:40:51,602]\u001b[0m Trial 69 finished with value: 0.044997761078727765 and parameters: {'alpha': 2.2198902181775364e-06, 'l1_ratio': 0.0010221623913873414}. Best is trial 61 with value: 0.04487259555073753.\u001b[0m\n",
      "\u001b[32m[I 2022-05-15 21:40:51,630]\u001b[0m Trial 70 finished with value: 0.044873638035223054 and parameters: {'alpha': 0.002297125013981913, 'l1_ratio': 0.0015461858870742995}. Best is trial 61 with value: 0.04487259555073753.\u001b[0m\n",
      "\u001b[32m[I 2022-05-15 21:40:51,661]\u001b[0m Trial 71 finished with value: 0.044873569571821356 and parameters: {'alpha': 0.0022910643066361776, 'l1_ratio': 0.0016700778031114895}. Best is trial 61 with value: 0.04487259555073753.\u001b[0m\n",
      "\u001b[32m[I 2022-05-15 21:40:51,692]\u001b[0m Trial 72 finished with value: 0.045110398401309204 and parameters: {'alpha': 0.005800468659101325, 'l1_ratio': 0.001609960012900447}. Best is trial 61 with value: 0.04487259555073753.\u001b[0m\n",
      "\u001b[32m[I 2022-05-15 21:40:51,713]\u001b[0m Trial 73 finished with value: 0.0449079648147636 and parameters: {'alpha': 0.0008978675762871843, 'l1_ratio': 0.0025773614762942807}. Best is trial 61 with value: 0.04487259555073753.\u001b[0m\n",
      "\u001b[32m[I 2022-05-15 21:40:51,749]\u001b[0m Trial 74 finished with value: 0.04489357252866025 and parameters: {'alpha': 0.0011467717234721897, 'l1_ratio': 0.0013468847270050128}. Best is trial 61 with value: 0.04487259555073753.\u001b[0m\n",
      "\u001b[32m[I 2022-05-15 21:40:51,769]\u001b[0m Trial 75 finished with value: 0.05274921106223107 and parameters: {'alpha': 0.06206660171355634, 'l1_ratio': 0.001762582764246318}. Best is trial 61 with value: 0.04487259555073753.\u001b[0m\n",
      "\u001b[32m[I 2022-05-15 21:40:51,797]\u001b[0m Trial 76 finished with value: 0.04487422578879088 and parameters: {'alpha': 0.00234703497747735, 'l1_ratio': 0.002243251278227071}. Best is trial 61 with value: 0.04487259555073753.\u001b[0m\n",
      "\u001b[32m[I 2022-05-15 21:40:51,828]\u001b[0m Trial 77 finished with value: 0.04494648148422799 and parameters: {'alpha': 0.0004326559953783181, 'l1_ratio': 0.002931111936556379}. Best is trial 61 with value: 0.04487259555073753.\u001b[0m\n",
      "\u001b[32m[I 2022-05-15 21:40:51,870]\u001b[0m Trial 78 finished with value: 0.04496796584890391 and parameters: {'alpha': 0.00023512357334898123, 'l1_ratio': 0.002128947955352005}. Best is trial 61 with value: 0.04487259555073753.\u001b[0m\n",
      "\u001b[32m[I 2022-05-15 21:40:51,900]\u001b[0m Trial 79 finished with value: 0.04488607889646555 and parameters: {'alpha': 0.002849476976463683, 'l1_ratio': 0.0012151105469227943}. Best is trial 61 with value: 0.04487259555073753.\u001b[0m\n",
      "\u001b[32m[I 2022-05-15 21:40:51,925]\u001b[0m Trial 80 finished with value: 0.0482062576005651 and parameters: {'alpha': 0.025170734536953003, 'l1_ratio': 0.0015567201197966593}. Best is trial 61 with value: 0.04487259555073753.\u001b[0m\n",
      "\u001b[32m[I 2022-05-15 21:40:51,957]\u001b[0m Trial 81 finished with value: 0.044876631838434954 and parameters: {'alpha': 0.002494800828665997, 'l1_ratio': 0.002158993491588409}. Best is trial 61 with value: 0.04487259555073753.\u001b[0m\n",
      "\u001b[32m[I 2022-05-15 21:40:51,981]\u001b[0m Trial 82 finished with value: 0.0449548454670712 and parameters: {'alpha': 0.004115190783980057, 'l1_ratio': 0.0012791765956414007}. Best is trial 61 with value: 0.04487259555073753.\u001b[0m\n",
      "\u001b[32m[I 2022-05-15 21:40:52,010]\u001b[0m Trial 83 finished with value: 0.04507903711444614 and parameters: {'alpha': 0.0055157695171742065, 'l1_ratio': 0.0034018033832176886}. Best is trial 61 with value: 0.04487259555073753.\u001b[0m\n",
      "\u001b[32m[I 2022-05-15 21:40:52,031]\u001b[0m Trial 84 finished with value: 0.04489959701752161 and parameters: {'alpha': 0.0010380755287930472, 'l1_ratio': 0.005839144863856975}. Best is trial 61 with value: 0.04487259555073753.\u001b[0m\n",
      "\u001b[32m[I 2022-05-15 21:40:52,058]\u001b[0m Trial 85 finished with value: 0.045779345803581936 and parameters: {'alpha': 0.010628354767042401, 'l1_ratio': 0.001033243055512933}. Best is trial 61 with value: 0.04487259555073753.\u001b[0m\n",
      "\u001b[32m[I 2022-05-15 21:40:52,085]\u001b[0m Trial 86 finished with value: 0.044872278464124775 and parameters: {'alpha': 0.0020517131926672673, 'l1_ratio': 0.0021104131881332167}. Best is trial 86 with value: 0.044872278464124775.\u001b[0m\n",
      "\u001b[32m[I 2022-05-15 21:40:52,110]\u001b[0m Trial 87 finished with value: 0.04493166697848671 and parameters: {'alpha': 0.000589033604739437, 'l1_ratio': 0.001940116176085414}. Best is trial 86 with value: 0.044872278464124775.\u001b[0m\n",
      "\u001b[32m[I 2022-05-15 21:40:52,139]\u001b[0m Trial 88 finished with value: 0.05075199239212233 and parameters: {'alpha': 0.04320917161434966, 'l1_ratio': 0.0024367915557582114}. Best is trial 86 with value: 0.044872278464124775.\u001b[0m\n",
      "\u001b[32m[I 2022-05-15 21:40:52,200]\u001b[0m Trial 89 finished with value: 0.04498197939755153 and parameters: {'alpha': 0.00012084386274202383, 'l1_ratio': 0.003109268853828138}. Best is trial 86 with value: 0.044872278464124775.\u001b[0m\n",
      "\u001b[32m[I 2022-05-15 21:40:52,223]\u001b[0m Trial 90 finished with value: 0.044880070097791484 and parameters: {'alpha': 0.0014943395863854332, 'l1_ratio': 0.0015577365776273605}. Best is trial 86 with value: 0.044872278464124775.\u001b[0m\n",
      "\u001b[32m[I 2022-05-15 21:40:52,252]\u001b[0m Trial 91 finished with value: 0.04487448355904615 and parameters: {'alpha': 0.0023650769972213635, 'l1_ratio': 0.0017259515441313262}. Best is trial 86 with value: 0.044872278464124775.\u001b[0m\n",
      "\u001b[32m[I 2022-05-15 21:40:52,280]\u001b[0m Trial 92 finished with value: 0.044908998047204614 and parameters: {'alpha': 0.003396225581455297, 'l1_ratio': 0.004767437059312632}. Best is trial 86 with value: 0.044872278464124775.\u001b[0m\n",
      "\u001b[32m[I 2022-05-15 21:40:52,308]\u001b[0m Trial 93 finished with value: 0.04507100569726358 and parameters: {'alpha': 0.0054292306049861395, 'l1_ratio': 0.0017823207751210427}. Best is trial 86 with value: 0.044872278464124775.\u001b[0m\n",
      "\u001b[32m[I 2022-05-15 21:40:52,339]\u001b[0m Trial 94 finished with value: 0.044905033611490786 and parameters: {'alpha': 0.0009422614852397712, 'l1_ratio': 0.0013420483849038809}. Best is trial 86 with value: 0.044872278464124775.\u001b[0m\n",
      "\u001b[32m[I 2022-05-15 21:40:52,367]\u001b[0m Trial 95 finished with value: 0.04487237993634746 and parameters: {'alpha': 0.0019856141095110943, 'l1_ratio': 0.001188146075542168}. Best is trial 86 with value: 0.044872278464124775.\u001b[0m\n",
      "\u001b[32m[I 2022-05-15 21:40:52,400]\u001b[0m Trial 96 finished with value: 0.04494147517545935 and parameters: {'alpha': 0.0004830967493333515, 'l1_ratio': 0.00224157734126229}. Best is trial 86 with value: 0.044872278464124775.\u001b[0m\n",
      "\u001b[32m[I 2022-05-15 21:40:52,433]\u001b[0m Trial 97 finished with value: 0.045693169031697956 and parameters: {'alpha': 0.010079622224494097, 'l1_ratio': 0.0011699809653642488}. Best is trial 86 with value: 0.044872278464124775.\u001b[0m\n",
      "\u001b[32m[I 2022-05-15 21:40:52,455]\u001b[0m Trial 98 finished with value: 0.05606359555020849 and parameters: {'alpha': 0.11296192477061928, 'l1_ratio': 0.0016919753596317242}. Best is trial 86 with value: 0.044872278464124775.\u001b[0m\n",
      "\u001b[32m[I 2022-05-15 21:40:52,476]\u001b[0m Trial 99 finished with value: 0.047007499305389035 and parameters: {'alpha': 0.01796048403311383, 'l1_ratio': 0.0014427996252954366}. Best is trial 86 with value: 0.044872278464124775.\u001b[0m\n"
     ]
    }
   ],
   "source": [
    "study = optuna.create_study()\n",
    "study.optimize(objective, n_trials = 100)"
   ]
  },
  {
   "cell_type": "code",
   "execution_count": 26,
   "metadata": {},
   "outputs": [
    {
     "name": "stdout",
     "output_type": "stream",
     "text": [
      "{'alpha': 0.0020517131926672673, 'l1_ratio': 0.0021104131881332167}\n"
     ]
    }
   ],
   "source": [
    "print(study.best_params)"
   ]
  },
  {
   "cell_type": "code",
   "execution_count": 30,
   "metadata": {},
   "outputs": [
    {
     "name": "stdout",
     "output_type": "stream",
     "text": [
      "RMSLE: 0.21183\n"
     ]
    }
   ],
   "source": [
    "model_optuna = ElasticNet(alpha = study.best_params['alpha'],\n",
    "                         l1_ratio = study.best_params['l1_ratio']).fit(x , y)\n",
    "print(\"RMSLE: {0:.5}\".format(rmsle_err(y, model_optuna.predict(x))))"
   ]
  },
  {
   "cell_type": "code",
   "execution_count": null,
   "metadata": {},
   "outputs": [],
   "source": [
    "# ЗАДАНИЕ \n",
    "# Постройте модели ElasticNet с разным набором параметров погоды и выясните, какой набор погодных параметров\n",
    "# оптимизируется к наименьшей метрике RMSLE через Optuna"
   ]
  }
 ],
 "metadata": {
  "kernelspec": {
   "display_name": "Python 3",
   "language": "python",
   "name": "python3"
  },
  "language_info": {
   "codemirror_mode": {
    "name": "ipython",
    "version": 3
   },
   "file_extension": ".py",
   "mimetype": "text/x-python",
   "name": "python",
   "nbconvert_exporter": "python",
   "pygments_lexer": "ipython3",
   "version": "3.7.0"
  }
 },
 "nbformat": 4,
 "nbformat_minor": 4
}
