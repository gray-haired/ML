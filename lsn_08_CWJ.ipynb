{
 "cells": [
  {
   "cell_type": "markdown",
   "metadata": {},
   "source": [
    "1. Используйте линейную интерполяцию для температуры воздуха, облачности \n",
    "    и точки росы\n",
    "2. Вычислите первую производную для температуры воздуха, запишите ее в столбец\n",
    "    air_temperature1\n",
    "3. Вычислите синус и косинус от угла направления ветра, запишите их в столбцы\n",
    "    wind_direction_cos, wind_direction_sin\n",
    "4. Удалите столбцы site_id, building_id, primary_use, square_feet, year_build,\n",
    "    floor_count, wind_direction - получилось\n",
    "5. Удалите из данных строки с meter_reading = 0 - получилось"
   ]
  },
  {
   "cell_type": "code",
   "execution_count": 41,
   "metadata": {},
   "outputs": [],
   "source": [
    "import pandas as pd\n",
    "import numpy as np\n",
    "from sklearn.model_selection import train_test_split"
   ]
  },
  {
   "cell_type": "code",
   "execution_count": 32,
   "metadata": {},
   "outputs": [
    {
     "name": "stdout",
     "output_type": "stream",
     "text": [
      "             timestamp  site_id  building_id  meter  meter_reading  \\\n",
      "0  2016-01-01 00:00:00        0            0      0            0.0   \n",
      "1  2016-01-01 01:00:00        0            0      0            0.0   \n",
      "2  2016-01-01 02:00:00        0            0      0            0.0   \n",
      "3  2016-01-01 03:00:00        0            0      0            0.0   \n",
      "4  2016-01-01 04:00:00        0            0      0            0.0   \n",
      "\n",
      "  primary_use  square_feet  year_built  floor_count  air_temperature  \\\n",
      "0   Education         7432      2008.0          NaN             25.0   \n",
      "1   Education         7432      2008.0          NaN             24.4   \n",
      "2   Education         7432      2008.0          NaN             22.8   \n",
      "3   Education         7432      2008.0          NaN             21.1   \n",
      "4   Education         7432      2008.0          NaN             20.0   \n",
      "\n",
      "   cloud_coverage  dew_temperature  precip_depth_1_hr  sea_level_pressure  \\\n",
      "0             6.0             20.0                0.0              1019.7   \n",
      "1             0.0             21.1                0.0              1020.2   \n",
      "2             2.0             21.1                0.0              1020.2   \n",
      "3             2.0             20.6                0.0              1020.1   \n",
      "4             2.0             20.0                0.0              1020.0   \n",
      "\n",
      "   wind_direction  wind_speed  \n",
      "0             0.0         0.0  \n",
      "1            70.0         1.5  \n",
      "2             0.0         0.0  \n",
      "3             0.0         0.0  \n",
      "4           250.0         2.6  \n"
     ]
    }
   ],
   "source": [
    "data = pd.read_csv('energy_2.csv')\n",
    "print (data.head())"
   ]
  },
  {
   "cell_type": "code",
   "execution_count": 33,
   "metadata": {},
   "outputs": [],
   "source": [
    "# столбцы wind_direction_cos, wind_direction_sin\n",
    "\n",
    "data['wind_direction_rad'] = data['wind_direction'] * np.pi / 100\n",
    "data['wind_direction_sin'] = np.sin(data['wind_direction_rad'])\n",
    "data['wind_direction_cos'] = np.cos(data['wind_direction_rad'])\n",
    "data = data.drop(labels = ['wind_direction_rad'], axis = 1)"
   ]
  },
  {
   "cell_type": "code",
   "execution_count": 34,
   "metadata": {},
   "outputs": [
    {
     "name": "stdout",
     "output_type": "stream",
     "text": [
      "             timestamp  site_id  building_id  meter  meter_reading  \\\n",
      "0  2016-01-01 00:00:00        0            0      0            0.0   \n",
      "1  2016-01-01 01:00:00        0            0      0            0.0   \n",
      "2  2016-01-01 02:00:00        0            0      0            0.0   \n",
      "3  2016-01-01 03:00:00        0            0      0            0.0   \n",
      "4  2016-01-01 04:00:00        0            0      0            0.0   \n",
      "\n",
      "  primary_use  square_feet  year_built  floor_count  air_temperature  \\\n",
      "0   Education         7432      2008.0          NaN             25.0   \n",
      "1   Education         7432      2008.0          NaN             24.4   \n",
      "2   Education         7432      2008.0          NaN             22.8   \n",
      "3   Education         7432      2008.0          NaN             21.1   \n",
      "4   Education         7432      2008.0          NaN             20.0   \n",
      "\n",
      "   cloud_coverage  dew_temperature  precip_depth_1_hr  sea_level_pressure  \\\n",
      "0             6.0             20.0                0.0              1019.7   \n",
      "1             0.0             21.1                0.0              1020.2   \n",
      "2             2.0             21.1                0.0              1020.2   \n",
      "3             2.0             20.6                0.0              1020.1   \n",
      "4             2.0             20.0                0.0              1020.0   \n",
      "\n",
      "   wind_direction  wind_speed  wind_direction_sin  wind_direction_cos  \n",
      "0             0.0         0.0            0.000000        1.000000e+00  \n",
      "1            70.0         1.5            0.809017       -5.877853e-01  \n",
      "2             0.0         0.0            0.000000        1.000000e+00  \n",
      "3             0.0         0.0            0.000000        1.000000e+00  \n",
      "4           250.0         2.6            1.000000        1.194340e-15  \n"
     ]
    }
   ],
   "source": [
    "print(data.head())"
   ]
  },
  {
   "cell_type": "code",
   "execution_count": 35,
   "metadata": {},
   "outputs": [],
   "source": [
    "# производная по температуре воздуха\n",
    "\n",
    "data['air_temperature1'] = data['air_temperature'].diff()\n",
    "data.at[0, 'air_temperature1'] = data.at[1, 'air_temperature1']"
   ]
  },
  {
   "cell_type": "code",
   "execution_count": 36,
   "metadata": {},
   "outputs": [],
   "source": [
    "# удаление пустых значений\n",
    "\n",
    "data = data.loc[data['meter_reading'] > 0]"
   ]
  },
  {
   "cell_type": "code",
   "execution_count": 37,
   "metadata": {},
   "outputs": [
    {
     "name": "stdout",
     "output_type": "stream",
     "text": [
      "                timestamp  meter_reading  air_temperature  cloud_coverage  \\\n",
      "704   2016-01-30 08:00:00        43.6839              8.3             0.0   \n",
      "725   2016-01-31 05:00:00        37.5408             12.8             0.0   \n",
      "737   2016-01-31 17:00:00        52.5571             20.6             0.0   \n",
      "2366  2016-04-08 14:00:00        59.3827             21.7             2.0   \n",
      "2923  2016-05-01 19:00:00       448.0000             31.1             0.0   \n",
      "\n",
      "      dew_temperature  precip_depth_1_hr  sea_level_pressure  wind_speed  \\\n",
      "704               6.1                0.0              1019.0         2.1   \n",
      "725              10.0                0.0              1021.9         0.0   \n",
      "737              11.7                0.0              1020.9         1.5   \n",
      "2366             14.4                0.0              1015.1         3.1   \n",
      "2923             17.2                0.0              1016.1         4.1   \n",
      "\n",
      "      wind_direction_sin  wind_direction_cos  air_temperature1  \n",
      "704         5.877853e-01        8.090170e-01              -2.3  \n",
      "725         0.000000e+00        1.000000e+00              -1.1  \n",
      "737        -3.090170e-01       -9.510565e-01               1.7  \n",
      "2366        1.000000e+00        1.194340e-15               2.8  \n",
      "2923        1.224647e-16       -1.000000e+00               1.1  \n"
     ]
    }
   ],
   "source": [
    "# уадаление ненужных столбцов\n",
    "\n",
    "data = data.drop(labels = ['site_id', 'building_id', 'meter', 'primary_use', 'square_feet',\n",
    "                         'year_built', 'floor_count', 'wind_direction'], axis = 1)\n",
    "print(data.head())"
   ]
  },
  {
   "cell_type": "code",
   "execution_count": 38,
   "metadata": {},
   "outputs": [],
   "source": [
    "data.to_csv('energy_data_1.csv', index = False)"
   ]
  },
  {
   "cell_type": "code",
   "execution_count": 42,
   "metadata": {},
   "outputs": [
    {
     "name": "stdout",
     "output_type": "stream",
     "text": [
      "                timestamp  meter_reading  air_temperature  cloud_coverage  \\\n",
      "5947  2016-09-04 19:00:00        234.801             32.2             0.0   \n",
      "6336  2016-09-21 00:00:00        237.531             24.4             6.0   \n",
      "3632  2016-05-31 08:00:00        178.831             21.7             0.0   \n",
      "6655  2016-10-04 07:00:00        249.135             24.4             0.0   \n",
      "8532  2016-12-21 12:00:00        229.340             15.0             8.0   \n",
      "\n",
      "      dew_temperature  precip_depth_1_hr  sea_level_pressure  wind_speed  \\\n",
      "5947             21.7                0.0              1017.4         2.6   \n",
      "6336             22.8               61.0              1014.0         2.6   \n",
      "3632             20.6                0.0              1013.1         0.0   \n",
      "6655             22.2                0.0              1011.2         2.1   \n",
      "8532             13.9                0.0              1023.3         3.6   \n",
      "\n",
      "      wind_direction_sin  wind_direction_cos  air_temperature1  \n",
      "5947           -0.309017        9.510565e-01               1.1  \n",
      "6336           -0.587785       -8.090170e-01              -2.3  \n",
      "3632            0.000000        1.000000e+00              -0.5  \n",
      "6655           -1.000000       -2.204983e-15               0.0  \n",
      "8532           -0.951057        3.090170e-01               0.0  \n"
     ]
    }
   ],
   "source": [
    "# РАЗДЕЛЕНИЕ ДАННЫХ \n",
    "# на обучающую и проверочные выборки, обычно 90/10, 80/20, 75/25, 60/40\n",
    "\n",
    "data_train, data_test = train_test_split(data, test_size = 0.20)\n",
    "print(data_train.head())"
   ]
  },
  {
   "cell_type": "code",
   "execution_count": 44,
   "metadata": {},
   "outputs": [
    {
     "name": "stdout",
     "output_type": "stream",
     "text": [
      "237.9\n"
     ]
    }
   ],
   "source": [
    "# ПОСТРОЕНИЕ МОДЕЛИ ПО ОБУЧАЮЩЕЙ ВЫБОРКЕ\n",
    "# Среднее значение\n",
    "\n",
    "model = float(data_train['meter_reading'].mean())\n",
    "print('{0:.4}'.format(model))"
   ]
  },
  {
   "cell_type": "markdown",
   "metadata": {},
   "source": [
    "ПРОВЕРКА МОДЕЛИ\n",
    "на проверочной выборке (с известным проверочным значением)"
   ]
  },
  {
   "cell_type": "code",
   "execution_count": 57,
   "metadata": {},
   "outputs": [
    {
     "name": "stdout",
     "output_type": "stream",
     "text": [
      "16.12%\n"
     ]
    }
   ],
   "source": [
    "err = np.mean(np.abs(data_test['meter_reading'] - model)) \n",
    "print('{0:.4}%'.format(100*err/model))"
   ]
  },
  {
   "cell_type": "markdown",
   "metadata": {},
   "source": [
    "Задание\n",
    "1. Выделите час из timestamp\n",
    "2. Вычислите среднее значение энергопотребления по часам на обучающей выборке \n",
    "3. Проверте точность работы модели \"среднее по часам\" относительно модели \"общее среднее\" на проверочной выборке"
   ]
  },
  {
   "cell_type": "markdown",
   "metadata": {},
   "source": [
    "Выделение времени"
   ]
  },
  {
   "cell_type": "markdown",
   "metadata": {},
   "source": [
    "преобразование метки времени в дату и выделение из даты часа суток"
   ]
  },
  {
   "cell_type": "code",
   "execution_count": 53,
   "metadata": {},
   "outputs": [],
   "source": [
    "data['timestamp'] = pd.to_datetime(data['timestamp'])\n",
    "data['hour'] = data['timestamp'].dt.hour"
   ]
  },
  {
   "cell_type": "code",
   "execution_count": 55,
   "metadata": {},
   "outputs": [
    {
     "name": "stdout",
     "output_type": "stream",
     "text": [
      "               timestamp  meter_reading  air_temperature  cloud_coverage  \\\n",
      "704  2016-01-30 08:00:00        43.6839              8.3             0.0   \n",
      "725  2016-01-31 05:00:00        37.5408             12.8             0.0   \n",
      "737  2016-01-31 17:00:00        52.5571             20.6             0.0   \n",
      "2366 2016-04-08 14:00:00        59.3827             21.7             2.0   \n",
      "2923 2016-05-01 19:00:00       448.0000             31.1             0.0   \n",
      "\n",
      "      dew_temperature  precip_depth_1_hr  sea_level_pressure  wind_speed  \\\n",
      "704               6.1                0.0              1019.0         2.1   \n",
      "725              10.0                0.0              1021.9         0.0   \n",
      "737              11.7                0.0              1020.9         1.5   \n",
      "2366             14.4                0.0              1015.1         3.1   \n",
      "2923             17.2                0.0              1016.1         4.1   \n",
      "\n",
      "      wind_direction_sin  wind_direction_cos  air_temperature1  hour  \n",
      "704         5.877853e-01        8.090170e-01              -2.3     8  \n",
      "725         0.000000e+00        1.000000e+00              -1.1     5  \n",
      "737        -3.090170e-01       -9.510565e-01               1.7    17  \n",
      "2366        1.000000e+00        1.194340e-15               2.8    14  \n",
      "2923        1.224647e-16       -1.000000e+00               1.1    19  \n"
     ]
    }
   ],
   "source": [
    "# сохранение данных\n",
    "\n",
    "data.to_csv('energy_data_2.csv', index = False)\n",
    "print(data.head())"
   ]
  },
  {
   "cell_type": "code",
   "execution_count": 71,
   "metadata": {},
   "outputs": [
    {
     "name": "stdout",
     "output_type": "stream",
     "text": [
      "             timestamp  meter_reading  air_temperature  cloud_coverage  \\\n",
      "0  2016-01-30 08:00:00        43.6839              8.3             0.0   \n",
      "1  2016-01-31 05:00:00        37.5408             12.8             0.0   \n",
      "2  2016-01-31 17:00:00        52.5571             20.6             0.0   \n",
      "3  2016-04-08 14:00:00        59.3827             21.7             2.0   \n",
      "4  2016-05-01 19:00:00       448.0000             31.1             0.0   \n",
      "\n",
      "   dew_temperature  precip_depth_1_hr  sea_level_pressure  wind_speed  \\\n",
      "0              6.1                0.0              1019.0         2.1   \n",
      "1             10.0                0.0              1021.9         0.0   \n",
      "2             11.7                0.0              1020.9         1.5   \n",
      "3             14.4                0.0              1015.1         3.1   \n",
      "4             17.2                0.0              1016.1         4.1   \n",
      "\n",
      "   wind_direction_sin  wind_direction_cos  air_temperature1  hour  \n",
      "0        5.877853e-01        8.090170e-01              -2.3     8  \n",
      "1        0.000000e+00        1.000000e+00              -1.1     5  \n",
      "2       -3.090170e-01       -9.510565e-01               1.7    17  \n",
      "3        1.000000e+00        1.194340e-15               2.8    14  \n",
      "4        1.224647e-16       -1.000000e+00               1.1    19  \n"
     ]
    }
   ],
   "source": [
    "data = pd.read_csv('energy_data_2.csv')\n",
    "print(data.head())"
   ]
  },
  {
   "cell_type": "code",
   "execution_count": 68,
   "metadata": {},
   "outputs": [
    {
     "name": "stdout",
     "output_type": "stream",
     "text": [
      "49.13\n"
     ]
    }
   ],
   "source": [
    "# вычисление стандартного отклонения для всех значений\n",
    "\n",
    "std = np.std(data['meter_reading'])\n",
    "print('{0:.4}'.format(std))"
   ]
  },
  {
   "cell_type": "markdown",
   "metadata": {},
   "source": [
    "Построение базовой модели"
   ]
  },
  {
   "cell_type": "markdown",
   "metadata": {},
   "source": [
    "#среднее значение и его ошибка"
   ]
  },
  {
   "cell_type": "code",
   "execution_count": 69,
   "metadata": {},
   "outputs": [
    {
     "name": "stdout",
     "output_type": "stream",
     "text": [
      "Модель: 237.7, Ошибка модели: 15.17% Ошибка данных: 20.66%\n"
     ]
    }
   ],
   "source": [
    "model = float(data['meter_reading'].mean())\n",
    "err = np.mean(np.abs(data['meter_reading'] - model))\n",
    "print ('Модель: {0:.4},'.format(model),\n",
    "'Ошибка модели: {0:.4}%'.format(100*err/model),\n",
    "'Ошибка данных: {0:.4}%'.format(100*std/model))"
   ]
  },
  {
   "cell_type": "markdown",
   "metadata": {},
   "source": [
    "Модель по первому часу\n",
    "Выберем значения hour == 0"
   ]
  },
  {
   "cell_type": "code",
   "execution_count": 73,
   "metadata": {},
   "outputs": [
    {
     "name": "stdout",
     "output_type": "stream",
     "text": [
      "               timestamp  meter_reading  air_temperature  cloud_coverage  \\\n",
      "11   2016-05-21 00:00:00        249.817             26.7             6.0   \n",
      "35   2016-05-22 00:00:00        251.182             28.9             2.0   \n",
      "59   2016-05-23 00:00:00        237.531             26.7             6.0   \n",
      "83   2016-05-24 00:00:00        223.197             26.1             4.0   \n",
      "107  2016-05-25 00:00:00        208.863             26.1             4.0   \n",
      "\n",
      "     dew_temperature  precip_depth_1_hr  sea_level_pressure  wind_speed  \\\n",
      "11              19.4                0.0              1017.5         0.0   \n",
      "35              17.2                0.0              1013.6         4.1   \n",
      "59              14.4                0.0              1011.5         7.2   \n",
      "83              15.6                0.0              1014.1         6.2   \n",
      "107             13.9                0.0              1019.6         5.1   \n",
      "\n",
      "     wind_direction_sin  wind_direction_cos  air_temperature1  hour  \n",
      "11         0.000000e+00            1.000000              -0.5     0  \n",
      "35         3.090170e-01           -0.951057              -1.7     0  \n",
      "59         5.877853e-01           -0.809017              -2.2     0  \n",
      "83         8.090170e-01           -0.587785              -1.7     0  \n",
      "107        1.224647e-16           -1.000000              -1.1     0  \n"
     ]
    }
   ],
   "source": [
    "data0 = data.loc[data['hour'] == 0]\n",
    "print (data0.head())"
   ]
  },
  {
   "cell_type": "markdown",
   "metadata": {},
   "source": [
    "Построим модель по часу и сравним ее точность с базовой моделью"
   ]
  },
  {
   "cell_type": "code",
   "execution_count": 75,
   "metadata": {},
   "outputs": [
    {
     "name": "stdout",
     "output_type": "stream",
     "text": [
      "Модель: 238.7, Ошибка модели: 13.63% Ошибка данных: 20.58%\n"
     ]
    }
   ],
   "source": [
    "model0 = float(data0['meter_reading'].mean())\n",
    "err = np.mean(np.abs(data0['meter_reading'] - model0))\n",
    "print ('Модель: {0:.4},'.format(model0),\n",
    "'Ошибка модели: {0:.4}%'.format(100*err/model0),\n",
    "'Ошибка данных: {0:.4}%'.format(100*std/model0))"
   ]
  }
 ],
 "metadata": {
  "kernelspec": {
   "display_name": "Python 3",
   "language": "python",
   "name": "python3"
  },
  "language_info": {
   "codemirror_mode": {
    "name": "ipython",
    "version": 3
   },
   "file_extension": ".py",
   "mimetype": "text/x-python",
   "name": "python",
   "nbconvert_exporter": "python",
   "pygments_lexer": "ipython3",
   "version": "3.7.0"
  }
 },
 "nbformat": 4,
 "nbformat_minor": 4
}
