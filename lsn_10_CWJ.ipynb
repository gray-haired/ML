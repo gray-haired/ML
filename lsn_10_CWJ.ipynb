{
 "cells": [
  {
   "cell_type": "code",
   "execution_count": 15,
   "metadata": {},
   "outputs": [],
   "source": [
    "import os\n",
    "import numpy as np\n",
    "import pandas as pd\n",
    "import msgpack \n",
    "import h5py\n",
    "import pyarrow as pa\n",
    "import pyarrow.feather as feather"
   ]
  },
  {
   "cell_type": "code",
   "execution_count": 30,
   "metadata": {},
   "outputs": [],
   "source": [
    "data = pd.read_csv('energy_data_3.csv')"
   ]
  },
  {
   "cell_type": "markdown",
   "metadata": {},
   "source": [
    "Определения размера CSV"
   ]
  },
  {
   "cell_type": "code",
   "execution_count": 36,
   "metadata": {},
   "outputs": [
    {
     "name": "stdout",
     "output_type": "stream",
     "text": [
      "Размер CSV: 586 Кб\n"
     ]
    }
   ],
   "source": [
    "print (\"Размер CSV:\", round(os.stat(\"energy_data_3.csv\").st_size/1024), \"Кб\")"
   ]
  },
  {
   "cell_type": "markdown",
   "metadata": {},
   "source": [
    "MESSAGE PACK\n",
    "Преобразуем час в целое число, остальные колонки в вещественные числа и сохраним данные в mpack"
   ]
  },
  {
   "cell_type": "code",
   "execution_count": 40,
   "metadata": {},
   "outputs": [
    {
     "name": "stdout",
     "output_type": "stream",
     "text": [
      "Размер Mpack: 1179 Кб\n"
     ]
    }
   ],
   "source": [
    "data['hour'] = data['hour'].astype(np.uint8)\n",
    "for column in data.columns:\n",
    "    if column not in ['hour', 'timestamp']:\n",
    "        data[column] = data[column].astype(np.float32)\n",
    "with open('energy_data_3.csv','wb') as f:\n",
    "    f.write(msgpack.packb(data.to_json(), use_bin_type = True))\n",
    "print (\"Размер Mpack:\", round(os.stat(\"energy_data_3.csv\").st_size/1024), \"Кб\")"
   ]
  },
  {
   "cell_type": "markdown",
   "metadata": {},
   "source": [
    "HDF5\n",
    "Сохраним данные в HDF5 формате"
   ]
  },
  {
   "cell_type": "code",
   "execution_count": 46,
   "metadata": {
    "scrolled": true
   },
   "outputs": [
    {
     "name": "stdout",
     "output_type": "stream",
     "text": [
      "Размер HDF5: 1432 Кб\n"
     ]
    }
   ],
   "source": [
    "data.to_hdf(\"energy_data_3.h5\", \"data\", mode = 'w')\n",
    "print (\"Размер HDF5:\", round(os.stat(\"energy_data_3.h5\").st_size/1041666,66), \"МБ\")"
   ]
  },
  {
   "cell_type": "markdown",
   "metadata": {},
   "source": [
    "Используем feather"
   ]
  },
  {
   "cell_type": "code",
   "execution_count": 47,
   "metadata": {
    "scrolled": true
   },
   "outputs": [
    {
     "name": "stdout",
     "output_type": "stream",
     "text": [
      "Размер feather: 157 Кб\n"
     ]
    }
   ],
   "source": [
    "feather.write_feather(data, 'energy_data_3.feather')\n",
    "print (\"Размер feather:\", round(os.stat(\"energy_data_3.feather\").st_size/1041666,66), \"МБ\")"
   ]
  },
  {
   "cell_type": "markdown",
   "metadata": {},
   "source": [
    "Используем Parquet"
   ]
  },
  {
   "cell_type": "code",
   "execution_count": 48,
   "metadata": {},
   "outputs": [
    {
     "name": "stdout",
     "output_type": "stream",
     "text": [
      "Размер parquet: 79 Кб\n"
     ]
    }
   ],
   "source": [
    "data.to_parquet('energy_data_3.parquet')\n",
    "print (\"Размер parquet:\", round(os.stat(\"energy_data_3.parquet\").st_size/1041666,66), \"МБ\")"
   ]
  },
  {
   "cell_type": "markdown",
   "metadata": {},
   "source": [
    "Используем дополнительное сжатие"
   ]
  },
  {
   "cell_type": "code",
   "execution_count": 49,
   "metadata": {},
   "outputs": [
    {
     "name": "stdout",
     "output_type": "stream",
     "text": [
      "Размер parquet brotli: 55 Кб\n"
     ]
    }
   ],
   "source": [
    "data.to_parquet('energy_data_3.parquet.br', compression = 'brotli')\n",
    "print (\"Размер parquet brotli:\", round(os.stat(\"energy_data_3.parquet.br\").st_size/1041666,66), \"МБ\")"
   ]
  }
 ],
 "metadata": {
  "celltoolbar": "Необработанный формат ячейки",
  "kernelspec": {
   "display_name": "Python 3 (ipykernel)",
   "language": "python",
   "name": "python3"
  },
  "language_info": {
   "codemirror_mode": {
    "name": "ipython",
    "version": 3
   },
   "file_extension": ".py",
   "mimetype": "text/x-python",
   "name": "python",
   "nbconvert_exporter": "python",
   "pygments_lexer": "ipython3",
   "version": "3.8.5"
  }
 },
 "nbformat": 4,
 "nbformat_minor": 4
}
