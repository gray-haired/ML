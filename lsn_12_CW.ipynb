{
 "cells": [
  {
   "cell_type": "code",
   "execution_count": 2,
   "metadata": {},
   "outputs": [],
   "source": [
    "import numpy as np\n",
    "import pandas as pd"
   ]
  },
  {
   "cell_type": "code",
   "execution_count": 5,
   "metadata": {},
   "outputs": [
    {
     "name": "stdout",
     "output_type": "stream",
     "text": [
      "             timestamp  meter_reading  air_temperature  cloud_coverage  \\\n",
      "0  2016-01-30 08:00:00        43.6839              8.3             0.0   \n",
      "1  2016-01-31 05:00:00        37.5408             12.8             0.0   \n",
      "2  2016-01-31 17:00:00        52.5571             20.6             0.0   \n",
      "3  2016-04-08 14:00:00        59.3827             21.7             2.0   \n",
      "4  2016-05-01 19:00:00       448.0000             31.1             0.0   \n",
      "\n",
      "   dew_temperature  precip_depth_1_hr  sea_level_pressure  wind_speed  \\\n",
      "0              6.1                0.0              1019.0         2.1   \n",
      "1             10.0                0.0              1021.9         0.0   \n",
      "2             11.7                0.0              1020.9         1.5   \n",
      "3             14.4                0.0              1015.1         3.1   \n",
      "4             17.2                0.0              1016.1         4.1   \n",
      "\n",
      "   wind_direction_sin  wind_direction_cos  air_temperature1  hour  \n",
      "0        5.877853e-01        8.090170e-01              -2.3     8  \n",
      "1        0.000000e+00        1.000000e+00              -1.1     5  \n",
      "2       -3.090170e-01       -9.510565e-01               1.7    17  \n",
      "3        1.000000e+00        1.194340e-15               2.8    14  \n",
      "4        1.224647e-16       -1.000000e+00               1.1    19  \n"
     ]
    }
   ],
   "source": [
    "# Получение данных\n",
    "data = pd.read_csv(\"energy_data_2.csv\")\n",
    "print(data.head())"
   ]
  },
  {
   "cell_type": "code",
   "execution_count": 10,
   "metadata": {},
   "outputs": [
    {
     "name": "stdout",
     "output_type": "stream",
     "text": [
      "y = 4.899752437740383 * x + 115.41948678647792\n"
     ]
    }
   ],
   "source": [
    "# Коэффициенты МНК\n",
    "# Строим линейную зависимость энергопотребления от температуры воздуха\n",
    "\n",
    "n = len(data)\n",
    "sumx = np.sum(data['air_temperature'])\n",
    "sumy = np.sum(data['meter_reading'])\n",
    "sumx2 = np.sum(data['air_temperature'] * data['air_temperature'])\n",
    "sumxy = np.sum(data['air_temperature'] * data['meter_reading'])\n",
    "a = (n * sumxy - sumx * sumy) / (n * sumx2 - sumx**2)\n",
    "b = (sumy - a * sumx) / n\n",
    "print(f'y = {a} * x + {b}')"
   ]
  },
  {
   "cell_type": "code",
   "execution_count": 12,
   "metadata": {},
   "outputs": [
    {
     "name": "stdout",
     "output_type": "stream",
     "text": [
      "RMSLE: 0.2228\n"
     ]
    }
   ],
   "source": [
    "# Ошибка модели\n",
    "# Расчет RMSLE линейной модели по температуре, ансамбль по часам дает 0,25\n",
    "\n",
    "err_rmsle = (np.log(1 + data['meter_reading']) - np.log(1 + a * data['air_temperature'] + b))**2\n",
    "print('RMSLE: {0:.5}'.format((err_rmsle).mean()**0.5))"
   ]
  },
  {
   "cell_type": "code",
   "execution_count": 15,
   "metadata": {},
   "outputs": [],
   "source": [
    
   ]
  }
 ],
 "metadata": {
  "kernelspec": {
   "display_name": "Python 3",
   "language": "python",
   "name": "python3"
  },
  "language_info": {
   "codemirror_mode": {
    "name": "ipython",
    "version": 3
   },
   "file_extension": ".py",
   "mimetype": "text/x-python",
   "name": "python",
   "nbconvert_exporter": "python",
   "pygments_lexer": "ipython3",
   "version": "3.7.0"
  }
 },
 "nbformat": 4,
 "nbformat_minor": 4
}
